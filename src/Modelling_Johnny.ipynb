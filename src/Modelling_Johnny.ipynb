{
 "cells": [
  {
   "cell_type": "markdown",
   "metadata": {
    "id": "ez_49UQOjfl1"
   },
   "source": [
    "# Utilised code from https://www.kaggle.com/harshsoni/ranzcr-simple-densenet121-approach to build this model\n",
    "\n",
    "## *REMEMBER TO CHANGE RUNTIME TO GPU*\n",
    "\n",
    "# Imports\n",
    "Imports and Installations"
   ]
  },
  {
   "cell_type": "code",
   "execution_count": 1,
   "metadata": {
    "colab": {
     "base_uri": "https://localhost:8080/"
    },
    "id": "44ga6Rti6RFj",
    "outputId": "2fe2acd3-306e-4efc-edc9-5cd6fe3e6429"
   },
   "outputs": [
    {
     "name": "stdout",
     "output_type": "stream",
     "text": [
      "Mounted at /content/drive\n"
     ]
    }
   ],
   "source": [
    " from google.colab import drive\n",
    "drive.mount('/content/drive')"
   ]
  },
  {
   "cell_type": "code",
   "execution_count": 3,
   "metadata": {
    "colab": {
     "base_uri": "https://localhost:8080/"
    },
    "id": "i9uEqk1cNu0S",
    "outputId": "5032d064-d5ae-400a-e2b7-ecc2efa57e91"
   },
   "outputs": [
    {
     "name": "stdout",
     "output_type": "stream",
     "text": [
      "Note: you may need to restart the kernel to use updated packages.\n"
     ]
    }
   ],
   "source": [
    "# pip install tensorflow_addons -q\n",
    "# pip install tensorflow-gpu -q\n",
    "# pip install pathlib"
   ]
  },
  {
   "cell_type": "code",
   "execution_count": 16,
   "metadata": {
    "id": "qxSCRBDql3Up"
   },
   "outputs": [],
   "source": [
    "# inbuilt imports\n",
    "import os\n",
    "import glob\n",
    "import pathlib\n",
    "import tempfile\n",
    "import functools\n",
    "\n",
    "# numeric imports\n",
    "import numpy as np\n",
    "import pandas as pd\n",
    "\n",
    "# visual imports\n",
    "import seaborn as sns\n",
    "import matplotlib.pyplot as plt\n",
    "from IPython.display import Image\n",
    "\n",
    "# modeling imports\n",
    "import tensorflow as tf\n",
    "import tensorflow_addons as tfa\n",
    "\n",
    "import pathlib"
   ]
  },
  {
   "cell_type": "code",
   "execution_count": 15,
   "metadata": {},
   "outputs": [
    {
     "name": "stdout",
     "output_type": "stream",
     "text": [
      "C:\\Users\\Johnn\\Desktop\\ADS2002\\ranzcr-clip-catheter-line-classification\n"
     ]
    }
   ],
   "source": [
    "%cd C:\\Users\\Johnn\\Desktop\\ADS2002\\ranzcr-clip-catheter-line-classification"
   ]
  },
  {
   "cell_type": "code",
   "execution_count": 13,
   "metadata": {
    "colab": {
     "base_uri": "https://localhost:8080/"
    },
    "id": "bgqmZRg4Hh6x",
    "outputId": "154d40a2-3371-4366-9ca6-e34373265b36"
   },
   "outputs": [],
   "source": [
    "%matplotlib inline\n",
    "sns.set()"
   ]
  },
  {
   "cell_type": "markdown",
   "metadata": {
    "id": "ZnXSyH5Ej8wm"
   },
   "source": [
    "Define paths for image training later"
   ]
  },
  {
   "cell_type": "code",
   "execution_count": 34,
   "metadata": {
    "id": "GM-ngxWMkFk5"
   },
   "outputs": [],
   "source": [
    "train_path = pathlib.Path('C:\\\\Users\\\\Johnn\\\\Desktop\\\\ADS2002\\\\ranzcr-clip-catheter-line-classification\\\\train')\n",
    "test_path = pathlib.Path('C:\\\\Users\\\\Johnn\\\\Desktop\\\\ADS2002\\\\ranzcr-clip-catheter-line-classification\\\\test')"
   ]
  },
  {
   "cell_type": "markdown",
   "metadata": {
    "id": "DVtKil5YmM6t"
   },
   "source": [
    "Define constants"
   ]
  },
  {
   "cell_type": "code",
   "execution_count": 19,
   "metadata": {
    "id": "zEmPN0FwmOz4"
   },
   "outputs": [],
   "source": [
    "IMG_SIZE = 224\n",
    "BATCH_SIZE = 16\n",
    "\n",
    "all_labels = ['ETT - Abnormal', 'ETT - Borderline', 'ETT - Normal', \n",
    "              'NGT - Abnormal', 'NGT - Borderline','NGT - Incompletely Imaged', \n",
    "              'NGT - Normal', 'CVC - Abnormal', 'CVC - Borderline', 'CVC - Normal', \n",
    "              'Swan Ganz Catheter Present']"
   ]
  },
  {
   "cell_type": "markdown",
   "metadata": {
    "id": "3a7cNKF5maHY"
   },
   "source": [
    "# Define dataframes\n",
    "\n",
    "`train` provides one hot encoding for labelling. \n",
    "\n",
    "`train_coord` gives class counts and coordinates for catheters"
   ]
  },
  {
   "cell_type": "code",
   "execution_count": 20,
   "metadata": {
    "colab": {
     "base_uri": "https://localhost:8080/",
     "height": 237
    },
    "id": "QJLxqxpW5B9A",
    "outputId": "08c617c9-49c1-4fa3-b457-a65b5361f76a"
   },
   "outputs": [
    {
     "data": {
      "text/html": [
       "<div>\n",
       "<style scoped>\n",
       "    .dataframe tbody tr th:only-of-type {\n",
       "        vertical-align: middle;\n",
       "    }\n",
       "\n",
       "    .dataframe tbody tr th {\n",
       "        vertical-align: top;\n",
       "    }\n",
       "\n",
       "    .dataframe thead th {\n",
       "        text-align: right;\n",
       "    }\n",
       "</style>\n",
       "<table border=\"1\" class=\"dataframe\">\n",
       "  <thead>\n",
       "    <tr style=\"text-align: right;\">\n",
       "      <th></th>\n",
       "      <th>StudyInstanceUID</th>\n",
       "      <th>ETT - Abnormal</th>\n",
       "      <th>ETT - Borderline</th>\n",
       "      <th>ETT - Normal</th>\n",
       "      <th>NGT - Abnormal</th>\n",
       "      <th>NGT - Borderline</th>\n",
       "      <th>NGT - Incompletely Imaged</th>\n",
       "      <th>NGT - Normal</th>\n",
       "      <th>CVC - Abnormal</th>\n",
       "      <th>CVC - Borderline</th>\n",
       "      <th>CVC - Normal</th>\n",
       "      <th>Swan Ganz Catheter Present</th>\n",
       "      <th>PatientID</th>\n",
       "    </tr>\n",
       "  </thead>\n",
       "  <tbody>\n",
       "    <tr>\n",
       "      <th>0</th>\n",
       "      <td>1.2.826.0.1.3680043.8.498.26697628953273228189...</td>\n",
       "      <td>0</td>\n",
       "      <td>0</td>\n",
       "      <td>0</td>\n",
       "      <td>0</td>\n",
       "      <td>0</td>\n",
       "      <td>0</td>\n",
       "      <td>1</td>\n",
       "      <td>0</td>\n",
       "      <td>0</td>\n",
       "      <td>0</td>\n",
       "      <td>0</td>\n",
       "      <td>ec89415d1</td>\n",
       "    </tr>\n",
       "    <tr>\n",
       "      <th>1</th>\n",
       "      <td>1.2.826.0.1.3680043.8.498.46302891597398758759...</td>\n",
       "      <td>0</td>\n",
       "      <td>0</td>\n",
       "      <td>1</td>\n",
       "      <td>0</td>\n",
       "      <td>0</td>\n",
       "      <td>1</td>\n",
       "      <td>0</td>\n",
       "      <td>0</td>\n",
       "      <td>0</td>\n",
       "      <td>1</td>\n",
       "      <td>0</td>\n",
       "      <td>bf4c6da3c</td>\n",
       "    </tr>\n",
       "    <tr>\n",
       "      <th>2</th>\n",
       "      <td>1.2.826.0.1.3680043.8.498.23819260719748494858...</td>\n",
       "      <td>0</td>\n",
       "      <td>0</td>\n",
       "      <td>0</td>\n",
       "      <td>0</td>\n",
       "      <td>0</td>\n",
       "      <td>0</td>\n",
       "      <td>0</td>\n",
       "      <td>0</td>\n",
       "      <td>1</td>\n",
       "      <td>0</td>\n",
       "      <td>0</td>\n",
       "      <td>3fc1c97e5</td>\n",
       "    </tr>\n",
       "    <tr>\n",
       "      <th>3</th>\n",
       "      <td>1.2.826.0.1.3680043.8.498.68286643202323212801...</td>\n",
       "      <td>0</td>\n",
       "      <td>0</td>\n",
       "      <td>0</td>\n",
       "      <td>0</td>\n",
       "      <td>0</td>\n",
       "      <td>0</td>\n",
       "      <td>0</td>\n",
       "      <td>1</td>\n",
       "      <td>0</td>\n",
       "      <td>0</td>\n",
       "      <td>0</td>\n",
       "      <td>c31019814</td>\n",
       "    </tr>\n",
       "    <tr>\n",
       "      <th>4</th>\n",
       "      <td>1.2.826.0.1.3680043.8.498.10050203009225938259...</td>\n",
       "      <td>0</td>\n",
       "      <td>0</td>\n",
       "      <td>0</td>\n",
       "      <td>0</td>\n",
       "      <td>0</td>\n",
       "      <td>0</td>\n",
       "      <td>0</td>\n",
       "      <td>0</td>\n",
       "      <td>0</td>\n",
       "      <td>1</td>\n",
       "      <td>0</td>\n",
       "      <td>207685cd1</td>\n",
       "    </tr>\n",
       "  </tbody>\n",
       "</table>\n",
       "</div>"
      ],
      "text/plain": [
       "                                    StudyInstanceUID  ETT - Abnormal  \\\n",
       "0  1.2.826.0.1.3680043.8.498.26697628953273228189...               0   \n",
       "1  1.2.826.0.1.3680043.8.498.46302891597398758759...               0   \n",
       "2  1.2.826.0.1.3680043.8.498.23819260719748494858...               0   \n",
       "3  1.2.826.0.1.3680043.8.498.68286643202323212801...               0   \n",
       "4  1.2.826.0.1.3680043.8.498.10050203009225938259...               0   \n",
       "\n",
       "   ETT - Borderline  ETT - Normal  NGT - Abnormal  NGT - Borderline  \\\n",
       "0                 0             0               0                 0   \n",
       "1                 0             1               0                 0   \n",
       "2                 0             0               0                 0   \n",
       "3                 0             0               0                 0   \n",
       "4                 0             0               0                 0   \n",
       "\n",
       "   NGT - Incompletely Imaged  NGT - Normal  CVC - Abnormal  CVC - Borderline  \\\n",
       "0                          0             1               0                 0   \n",
       "1                          1             0               0                 0   \n",
       "2                          0             0               0                 1   \n",
       "3                          0             0               1                 0   \n",
       "4                          0             0               0                 0   \n",
       "\n",
       "   CVC - Normal  Swan Ganz Catheter Present  PatientID  \n",
       "0             0                           0  ec89415d1  \n",
       "1             1                           0  bf4c6da3c  \n",
       "2             0                           0  3fc1c97e5  \n",
       "3             0                           0  c31019814  \n",
       "4             1                           0  207685cd1  "
      ]
     },
     "execution_count": 20,
     "metadata": {},
     "output_type": "execute_result"
    }
   ],
   "source": [
    "df = pd.read_csv(\"train.csv\")\n",
    "df_coord = pd.read_csv(\"train_annotations.csv\")\n",
    "\n",
    "df.head()"
   ]
  },
  {
   "cell_type": "code",
   "execution_count": 21,
   "metadata": {
    "colab": {
     "base_uri": "https://localhost:8080/",
     "height": 203
    },
    "id": "F2QbAh4h5rsE",
    "outputId": "5d0f2ee0-6b02-4ce5-8213-f4e23826bd86"
   },
   "outputs": [
    {
     "data": {
      "text/html": [
       "<div>\n",
       "<style scoped>\n",
       "    .dataframe tbody tr th:only-of-type {\n",
       "        vertical-align: middle;\n",
       "    }\n",
       "\n",
       "    .dataframe tbody tr th {\n",
       "        vertical-align: top;\n",
       "    }\n",
       "\n",
       "    .dataframe thead th {\n",
       "        text-align: right;\n",
       "    }\n",
       "</style>\n",
       "<table border=\"1\" class=\"dataframe\">\n",
       "  <thead>\n",
       "    <tr style=\"text-align: right;\">\n",
       "      <th></th>\n",
       "      <th>StudyInstanceUID</th>\n",
       "      <th>label</th>\n",
       "      <th>data</th>\n",
       "    </tr>\n",
       "  </thead>\n",
       "  <tbody>\n",
       "    <tr>\n",
       "      <th>0</th>\n",
       "      <td>1.2.826.0.1.3680043.8.498.12616281126973421762...</td>\n",
       "      <td>CVC - Normal</td>\n",
       "      <td>[[1487, 1279], [1477, 1168], [1472, 1052], [14...</td>\n",
       "    </tr>\n",
       "    <tr>\n",
       "      <th>1</th>\n",
       "      <td>1.2.826.0.1.3680043.8.498.12616281126973421762...</td>\n",
       "      <td>CVC - Normal</td>\n",
       "      <td>[[1328, 7], [1347, 101], [1383, 193], [1400, 2...</td>\n",
       "    </tr>\n",
       "    <tr>\n",
       "      <th>2</th>\n",
       "      <td>1.2.826.0.1.3680043.8.498.72921907356394389969...</td>\n",
       "      <td>CVC - Borderline</td>\n",
       "      <td>[[801, 1207], [812, 1112], [823, 1023], [842, ...</td>\n",
       "    </tr>\n",
       "    <tr>\n",
       "      <th>3</th>\n",
       "      <td>1.2.826.0.1.3680043.8.498.11697104485452001927...</td>\n",
       "      <td>CVC - Normal</td>\n",
       "      <td>[[1366, 961], [1411, 861], [1453, 751], [1508,...</td>\n",
       "    </tr>\n",
       "    <tr>\n",
       "      <th>4</th>\n",
       "      <td>1.2.826.0.1.3680043.8.498.87704688663091069148...</td>\n",
       "      <td>NGT - Normal</td>\n",
       "      <td>[[1862, 14], [1845, 293], [1801, 869], [1716, ...</td>\n",
       "    </tr>\n",
       "  </tbody>\n",
       "</table>\n",
       "</div>"
      ],
      "text/plain": [
       "                                    StudyInstanceUID             label  \\\n",
       "0  1.2.826.0.1.3680043.8.498.12616281126973421762...      CVC - Normal   \n",
       "1  1.2.826.0.1.3680043.8.498.12616281126973421762...      CVC - Normal   \n",
       "2  1.2.826.0.1.3680043.8.498.72921907356394389969...  CVC - Borderline   \n",
       "3  1.2.826.0.1.3680043.8.498.11697104485452001927...      CVC - Normal   \n",
       "4  1.2.826.0.1.3680043.8.498.87704688663091069148...      NGT - Normal   \n",
       "\n",
       "                                                data  \n",
       "0  [[1487, 1279], [1477, 1168], [1472, 1052], [14...  \n",
       "1  [[1328, 7], [1347, 101], [1383, 193], [1400, 2...  \n",
       "2  [[801, 1207], [812, 1112], [823, 1023], [842, ...  \n",
       "3  [[1366, 961], [1411, 861], [1453, 751], [1508,...  \n",
       "4  [[1862, 14], [1845, 293], [1801, 869], [1716, ...  "
      ]
     },
     "execution_count": 21,
     "metadata": {},
     "output_type": "execute_result"
    }
   ],
   "source": [
    "df_coord.head()"
   ]
  },
  {
   "cell_type": "markdown",
   "metadata": {
    "id": "KlUMQxSdxA7S"
   },
   "source": [
    "## Data Paths\n",
    "Add the paths of images to the dataframe for easy access\n"
   ]
  },
  {
   "cell_type": "code",
   "execution_count": 35,
   "metadata": {
    "colab": {
     "base_uri": "https://localhost:8080/",
     "height": 35
    },
    "id": "uvshZy7vxH8W",
    "outputId": "222aa118-4a46-44f9-e28c-df49fc7c90cb"
   },
   "outputs": [
    {
     "data": {
      "text/plain": [
       "'C:\\\\Users\\\\Johnn\\\\Desktop\\\\ADS2002\\\\ranzcr-clip-catheter-line-classification\\\\train\\\\1.2.826.0.1.3680043.8.498.26697628953273228189375557799582420561.jpg'"
      ]
     },
     "execution_count": 35,
     "metadata": {},
     "output_type": "execute_result"
    }
   ],
   "source": [
    "df['path'] = df['StudyInstanceUID'].map(lambda x: str(train_path/(x+'.jpg')))\n",
    "df.iloc[0][-1]"
   ]
  },
  {
   "cell_type": "code",
   "execution_count": 37,
   "metadata": {},
   "outputs": [
    {
     "data": {
      "text/html": [
       "<div>\n",
       "<style scoped>\n",
       "    .dataframe tbody tr th:only-of-type {\n",
       "        vertical-align: middle;\n",
       "    }\n",
       "\n",
       "    .dataframe tbody tr th {\n",
       "        vertical-align: top;\n",
       "    }\n",
       "\n",
       "    .dataframe thead th {\n",
       "        text-align: right;\n",
       "    }\n",
       "</style>\n",
       "<table border=\"1\" class=\"dataframe\">\n",
       "  <thead>\n",
       "    <tr style=\"text-align: right;\">\n",
       "      <th></th>\n",
       "      <th>StudyInstanceUID</th>\n",
       "      <th>ETT - Abnormal</th>\n",
       "      <th>ETT - Borderline</th>\n",
       "      <th>ETT - Normal</th>\n",
       "      <th>NGT - Abnormal</th>\n",
       "      <th>NGT - Borderline</th>\n",
       "      <th>NGT - Incompletely Imaged</th>\n",
       "      <th>NGT - Normal</th>\n",
       "      <th>CVC - Abnormal</th>\n",
       "      <th>CVC - Borderline</th>\n",
       "      <th>CVC - Normal</th>\n",
       "      <th>Swan Ganz Catheter Present</th>\n",
       "      <th>PatientID</th>\n",
       "      <th>path</th>\n",
       "    </tr>\n",
       "  </thead>\n",
       "  <tbody>\n",
       "    <tr>\n",
       "      <th>0</th>\n",
       "      <td>1.2.826.0.1.3680043.8.498.26697628953273228189...</td>\n",
       "      <td>0</td>\n",
       "      <td>0</td>\n",
       "      <td>0</td>\n",
       "      <td>0</td>\n",
       "      <td>0</td>\n",
       "      <td>0</td>\n",
       "      <td>1</td>\n",
       "      <td>0</td>\n",
       "      <td>0</td>\n",
       "      <td>0</td>\n",
       "      <td>0</td>\n",
       "      <td>ec89415d1</td>\n",
       "      <td>C:\\Users\\Johnn\\Desktop\\ADS2002\\ranzcr-clip-cat...</td>\n",
       "    </tr>\n",
       "    <tr>\n",
       "      <th>1</th>\n",
       "      <td>1.2.826.0.1.3680043.8.498.46302891597398758759...</td>\n",
       "      <td>0</td>\n",
       "      <td>0</td>\n",
       "      <td>1</td>\n",
       "      <td>0</td>\n",
       "      <td>0</td>\n",
       "      <td>1</td>\n",
       "      <td>0</td>\n",
       "      <td>0</td>\n",
       "      <td>0</td>\n",
       "      <td>1</td>\n",
       "      <td>0</td>\n",
       "      <td>bf4c6da3c</td>\n",
       "      <td>C:\\Users\\Johnn\\Desktop\\ADS2002\\ranzcr-clip-cat...</td>\n",
       "    </tr>\n",
       "    <tr>\n",
       "      <th>2</th>\n",
       "      <td>1.2.826.0.1.3680043.8.498.23819260719748494858...</td>\n",
       "      <td>0</td>\n",
       "      <td>0</td>\n",
       "      <td>0</td>\n",
       "      <td>0</td>\n",
       "      <td>0</td>\n",
       "      <td>0</td>\n",
       "      <td>0</td>\n",
       "      <td>0</td>\n",
       "      <td>1</td>\n",
       "      <td>0</td>\n",
       "      <td>0</td>\n",
       "      <td>3fc1c97e5</td>\n",
       "      <td>C:\\Users\\Johnn\\Desktop\\ADS2002\\ranzcr-clip-cat...</td>\n",
       "    </tr>\n",
       "    <tr>\n",
       "      <th>3</th>\n",
       "      <td>1.2.826.0.1.3680043.8.498.68286643202323212801...</td>\n",
       "      <td>0</td>\n",
       "      <td>0</td>\n",
       "      <td>0</td>\n",
       "      <td>0</td>\n",
       "      <td>0</td>\n",
       "      <td>0</td>\n",
       "      <td>0</td>\n",
       "      <td>1</td>\n",
       "      <td>0</td>\n",
       "      <td>0</td>\n",
       "      <td>0</td>\n",
       "      <td>c31019814</td>\n",
       "      <td>C:\\Users\\Johnn\\Desktop\\ADS2002\\ranzcr-clip-cat...</td>\n",
       "    </tr>\n",
       "    <tr>\n",
       "      <th>4</th>\n",
       "      <td>1.2.826.0.1.3680043.8.498.10050203009225938259...</td>\n",
       "      <td>0</td>\n",
       "      <td>0</td>\n",
       "      <td>0</td>\n",
       "      <td>0</td>\n",
       "      <td>0</td>\n",
       "      <td>0</td>\n",
       "      <td>0</td>\n",
       "      <td>0</td>\n",
       "      <td>0</td>\n",
       "      <td>1</td>\n",
       "      <td>0</td>\n",
       "      <td>207685cd1</td>\n",
       "      <td>C:\\Users\\Johnn\\Desktop\\ADS2002\\ranzcr-clip-cat...</td>\n",
       "    </tr>\n",
       "  </tbody>\n",
       "</table>\n",
       "</div>"
      ],
      "text/plain": [
       "                                    StudyInstanceUID  ETT - Abnormal  \\\n",
       "0  1.2.826.0.1.3680043.8.498.26697628953273228189...               0   \n",
       "1  1.2.826.0.1.3680043.8.498.46302891597398758759...               0   \n",
       "2  1.2.826.0.1.3680043.8.498.23819260719748494858...               0   \n",
       "3  1.2.826.0.1.3680043.8.498.68286643202323212801...               0   \n",
       "4  1.2.826.0.1.3680043.8.498.10050203009225938259...               0   \n",
       "\n",
       "   ETT - Borderline  ETT - Normal  NGT - Abnormal  NGT - Borderline  \\\n",
       "0                 0             0               0                 0   \n",
       "1                 0             1               0                 0   \n",
       "2                 0             0               0                 0   \n",
       "3                 0             0               0                 0   \n",
       "4                 0             0               0                 0   \n",
       "\n",
       "   NGT - Incompletely Imaged  NGT - Normal  CVC - Abnormal  CVC - Borderline  \\\n",
       "0                          0             1               0                 0   \n",
       "1                          1             0               0                 0   \n",
       "2                          0             0               0                 1   \n",
       "3                          0             0               1                 0   \n",
       "4                          0             0               0                 0   \n",
       "\n",
       "   CVC - Normal  Swan Ganz Catheter Present  PatientID  \\\n",
       "0             0                           0  ec89415d1   \n",
       "1             1                           0  bf4c6da3c   \n",
       "2             0                           0  3fc1c97e5   \n",
       "3             0                           0  c31019814   \n",
       "4             1                           0  207685cd1   \n",
       "\n",
       "                                                path  \n",
       "0  C:\\Users\\Johnn\\Desktop\\ADS2002\\ranzcr-clip-cat...  \n",
       "1  C:\\Users\\Johnn\\Desktop\\ADS2002\\ranzcr-clip-cat...  \n",
       "2  C:\\Users\\Johnn\\Desktop\\ADS2002\\ranzcr-clip-cat...  \n",
       "3  C:\\Users\\Johnn\\Desktop\\ADS2002\\ranzcr-clip-cat...  \n",
       "4  C:\\Users\\Johnn\\Desktop\\ADS2002\\ranzcr-clip-cat...  "
      ]
     },
     "execution_count": 37,
     "metadata": {},
     "output_type": "execute_result"
    }
   ],
   "source": [
    "df.head()"
   ]
  },
  {
   "cell_type": "markdown",
   "metadata": {
    "id": "Zcl6HvqFqTFv"
   },
   "source": [
    "# EDA\n"
   ]
  },
  {
   "cell_type": "markdown",
   "metadata": {
    "id": "2yqk6Vlkw7ni"
   },
   "source": [
    "## Classes\n",
    "\n",
    "Data suggests an imbalance for each class."
   ]
  },
  {
   "cell_type": "code",
   "execution_count": 23,
   "metadata": {
    "colab": {
     "base_uri": "https://localhost:8080/",
     "height": 388
    },
    "id": "NdZa-wAftlEj",
    "outputId": "87191c3c-067d-4c56-ff0e-4a92233e73e8"
   },
   "outputs": [
    {
     "data": {
      "text/html": [
       "<div>\n",
       "<style scoped>\n",
       "    .dataframe tbody tr th:only-of-type {\n",
       "        vertical-align: middle;\n",
       "    }\n",
       "\n",
       "    .dataframe tbody tr th {\n",
       "        vertical-align: top;\n",
       "    }\n",
       "\n",
       "    .dataframe thead th {\n",
       "        text-align: right;\n",
       "    }\n",
       "</style>\n",
       "<table border=\"1\" class=\"dataframe\">\n",
       "  <thead>\n",
       "    <tr style=\"text-align: right;\">\n",
       "      <th></th>\n",
       "      <th>Class</th>\n",
       "      <th>Pos</th>\n",
       "    </tr>\n",
       "  </thead>\n",
       "  <tbody>\n",
       "    <tr>\n",
       "      <th>0</th>\n",
       "      <td>ETT - Abnormal</td>\n",
       "      <td>79</td>\n",
       "    </tr>\n",
       "    <tr>\n",
       "      <th>1</th>\n",
       "      <td>NGT - Abnormal</td>\n",
       "      <td>279</td>\n",
       "    </tr>\n",
       "    <tr>\n",
       "      <th>2</th>\n",
       "      <td>NGT - Borderline</td>\n",
       "      <td>529</td>\n",
       "    </tr>\n",
       "    <tr>\n",
       "      <th>3</th>\n",
       "      <td>Swan Ganz Catheter Present</td>\n",
       "      <td>830</td>\n",
       "    </tr>\n",
       "    <tr>\n",
       "      <th>4</th>\n",
       "      <td>ETT - Borderline</td>\n",
       "      <td>1138</td>\n",
       "    </tr>\n",
       "    <tr>\n",
       "      <th>5</th>\n",
       "      <td>NGT - Incompletely Imaged</td>\n",
       "      <td>2748</td>\n",
       "    </tr>\n",
       "    <tr>\n",
       "      <th>6</th>\n",
       "      <td>CVC - Abnormal</td>\n",
       "      <td>3195</td>\n",
       "    </tr>\n",
       "    <tr>\n",
       "      <th>7</th>\n",
       "      <td>NGT - Normal</td>\n",
       "      <td>4797</td>\n",
       "    </tr>\n",
       "    <tr>\n",
       "      <th>8</th>\n",
       "      <td>ETT - Normal</td>\n",
       "      <td>7240</td>\n",
       "    </tr>\n",
       "    <tr>\n",
       "      <th>9</th>\n",
       "      <td>CVC - Borderline</td>\n",
       "      <td>8460</td>\n",
       "    </tr>\n",
       "    <tr>\n",
       "      <th>10</th>\n",
       "      <td>CVC - Normal</td>\n",
       "      <td>21324</td>\n",
       "    </tr>\n",
       "  </tbody>\n",
       "</table>\n",
       "</div>"
      ],
      "text/plain": [
       "                         Class    Pos\n",
       "0               ETT - Abnormal     79\n",
       "1               NGT - Abnormal    279\n",
       "2             NGT - Borderline    529\n",
       "3   Swan Ganz Catheter Present    830\n",
       "4             ETT - Borderline   1138\n",
       "5    NGT - Incompletely Imaged   2748\n",
       "6               CVC - Abnormal   3195\n",
       "7                 NGT - Normal   4797\n",
       "8                 ETT - Normal   7240\n",
       "9             CVC - Borderline   8460\n",
       "10                CVC - Normal  21324"
      ]
     },
     "execution_count": 23,
     "metadata": {},
     "output_type": "execute_result"
    }
   ],
   "source": [
    "data = df.loc[:, all_labels].sum().sort_values()\n",
    "dist = pd.DataFrame({'Class': data.index, 'Pos': data.values}, columns=['Class', 'Pos'])\n",
    "dist"
   ]
  },
  {
   "cell_type": "code",
   "execution_count": 24,
   "metadata": {
    "colab": {
     "base_uri": "https://localhost:8080/",
     "height": 361
    },
    "id": "TraxmmYy50pI",
    "outputId": "3365eb99-06be-48e1-95a5-af12b0e7c409"
   },
   "outputs": [
    {
     "data": {
      "image/png": "[encoded data removed]",
      "text/plain": [
       "<Figure size 432x360 with 1 Axes>"
      ]
     },
     "metadata": {},
     "output_type": "display_data"
    }
   ],
   "source": [
    "fig = plt.figure(figsize=(6, 5))\n",
    "\n",
    "sns.barplot(data=dist, y='Class', x='Pos')\n",
    "plt.xticks(rotation=45)\n",
    "plt.show()"
   ]
  },
  {
   "cell_type": "code",
   "execution_count": 25,
   "metadata": {
    "colab": {
     "base_uri": "https://localhost:8080/",
     "height": 388
    },
    "id": "0p4SbnxxuGy0",
    "outputId": "9052c190-ca7b-43fa-d781-483150089483"
   },
   "outputs": [
    {
     "data": {
      "text/html": [
       "<div>\n",
       "<style scoped>\n",
       "    .dataframe tbody tr th:only-of-type {\n",
       "        vertical-align: middle;\n",
       "    }\n",
       "\n",
       "    .dataframe tbody tr th {\n",
       "        vertical-align: top;\n",
       "    }\n",
       "\n",
       "    .dataframe thead th {\n",
       "        text-align: right;\n",
       "    }\n",
       "</style>\n",
       "<table border=\"1\" class=\"dataframe\">\n",
       "  <thead>\n",
       "    <tr style=\"text-align: right;\">\n",
       "      <th></th>\n",
       "      <th>Class</th>\n",
       "      <th>Pos</th>\n",
       "      <th>Neg</th>\n",
       "    </tr>\n",
       "  </thead>\n",
       "  <tbody>\n",
       "    <tr>\n",
       "      <th>0</th>\n",
       "      <td>ETT - Abnormal</td>\n",
       "      <td>79</td>\n",
       "      <td>30004</td>\n",
       "    </tr>\n",
       "    <tr>\n",
       "      <th>1</th>\n",
       "      <td>NGT - Abnormal</td>\n",
       "      <td>279</td>\n",
       "      <td>29804</td>\n",
       "    </tr>\n",
       "    <tr>\n",
       "      <th>2</th>\n",
       "      <td>NGT - Borderline</td>\n",
       "      <td>529</td>\n",
       "      <td>29554</td>\n",
       "    </tr>\n",
       "    <tr>\n",
       "      <th>3</th>\n",
       "      <td>Swan Ganz Catheter Present</td>\n",
       "      <td>830</td>\n",
       "      <td>29253</td>\n",
       "    </tr>\n",
       "    <tr>\n",
       "      <th>4</th>\n",
       "      <td>ETT - Borderline</td>\n",
       "      <td>1138</td>\n",
       "      <td>28945</td>\n",
       "    </tr>\n",
       "    <tr>\n",
       "      <th>5</th>\n",
       "      <td>NGT - Incompletely Imaged</td>\n",
       "      <td>2748</td>\n",
       "      <td>27335</td>\n",
       "    </tr>\n",
       "    <tr>\n",
       "      <th>6</th>\n",
       "      <td>CVC - Abnormal</td>\n",
       "      <td>3195</td>\n",
       "      <td>26888</td>\n",
       "    </tr>\n",
       "    <tr>\n",
       "      <th>7</th>\n",
       "      <td>NGT - Normal</td>\n",
       "      <td>4797</td>\n",
       "      <td>25286</td>\n",
       "    </tr>\n",
       "    <tr>\n",
       "      <th>8</th>\n",
       "      <td>ETT - Normal</td>\n",
       "      <td>7240</td>\n",
       "      <td>22843</td>\n",
       "    </tr>\n",
       "    <tr>\n",
       "      <th>9</th>\n",
       "      <td>CVC - Borderline</td>\n",
       "      <td>8460</td>\n",
       "      <td>21623</td>\n",
       "    </tr>\n",
       "    <tr>\n",
       "      <th>10</th>\n",
       "      <td>CVC - Normal</td>\n",
       "      <td>21324</td>\n",
       "      <td>8759</td>\n",
       "    </tr>\n",
       "  </tbody>\n",
       "</table>\n",
       "</div>"
      ],
      "text/plain": [
       "                         Class    Pos    Neg\n",
       "0               ETT - Abnormal     79  30004\n",
       "1               NGT - Abnormal    279  29804\n",
       "2             NGT - Borderline    529  29554\n",
       "3   Swan Ganz Catheter Present    830  29253\n",
       "4             ETT - Borderline   1138  28945\n",
       "5    NGT - Incompletely Imaged   2748  27335\n",
       "6               CVC - Abnormal   3195  26888\n",
       "7                 NGT - Normal   4797  25286\n",
       "8                 ETT - Normal   7240  22843\n",
       "9             CVC - Borderline   8460  21623\n",
       "10                CVC - Normal  21324   8759"
      ]
     },
     "execution_count": 25,
     "metadata": {},
     "output_type": "execute_result"
    }
   ],
   "source": [
    "dist['Neg'] = len(df) - dist.Pos\n",
    "dist.sort_values(by='Pos')"
   ]
  },
  {
   "cell_type": "markdown",
   "metadata": {
    "id": "b1ZNo9GCqigP"
   },
   "source": [
    "## `PatientID`\n",
    "\n",
    "Given that `PatientID` is a possible variable, it suggests a one to many relationship between one patient and many detections/data points."
   ]
  },
  {
   "cell_type": "code",
   "execution_count": 26,
   "metadata": {
    "colab": {
     "base_uri": "https://localhost:8080/"
    },
    "id": "wi2edncXqznK",
    "outputId": "990a5d2a-6c7e-41fe-eb6e-02529273d3b7"
   },
   "outputs": [
    {
     "name": "stdout",
     "output_type": "stream",
     "text": [
      "30083\n",
      "3255\n"
     ]
    }
   ],
   "source": [
    "print(len(df))\n",
    "print(len(df.PatientID.unique()))"
   ]
  },
  {
   "cell_type": "code",
   "execution_count": 27,
   "metadata": {
    "colab": {
     "base_uri": "https://localhost:8080/",
     "height": 304
    },
    "id": "reQ__5nnrDBy",
    "outputId": "e57bac7c-e6a5-42fa-afed-f4b30877e69f"
   },
   "outputs": [
    {
     "data": {
      "text/html": [
       "<div>\n",
       "<style scoped>\n",
       "    .dataframe tbody tr th:only-of-type {\n",
       "        vertical-align: middle;\n",
       "    }\n",
       "\n",
       "    .dataframe tbody tr th {\n",
       "        vertical-align: top;\n",
       "    }\n",
       "\n",
       "    .dataframe thead th {\n",
       "        text-align: right;\n",
       "    }\n",
       "</style>\n",
       "<table border=\"1\" class=\"dataframe\">\n",
       "  <thead>\n",
       "    <tr style=\"text-align: right;\">\n",
       "      <th></th>\n",
       "      <th>StudyInstanceUID</th>\n",
       "      <th>ETT - Abnormal</th>\n",
       "      <th>ETT - Borderline</th>\n",
       "      <th>ETT - Normal</th>\n",
       "      <th>NGT - Abnormal</th>\n",
       "      <th>NGT - Borderline</th>\n",
       "      <th>NGT - Incompletely Imaged</th>\n",
       "      <th>NGT - Normal</th>\n",
       "      <th>CVC - Abnormal</th>\n",
       "      <th>CVC - Borderline</th>\n",
       "      <th>CVC - Normal</th>\n",
       "      <th>Swan Ganz Catheter Present</th>\n",
       "      <th>path</th>\n",
       "    </tr>\n",
       "    <tr>\n",
       "      <th>PatientID</th>\n",
       "      <th></th>\n",
       "      <th></th>\n",
       "      <th></th>\n",
       "      <th></th>\n",
       "      <th></th>\n",
       "      <th></th>\n",
       "      <th></th>\n",
       "      <th></th>\n",
       "      <th></th>\n",
       "      <th></th>\n",
       "      <th></th>\n",
       "      <th></th>\n",
       "      <th></th>\n",
       "    </tr>\n",
       "  </thead>\n",
       "  <tbody>\n",
       "    <tr>\n",
       "      <th>ec89415d1</th>\n",
       "      <td>1.2.826.0.1.3680043.8.498.26697628953273228189...</td>\n",
       "      <td>0</td>\n",
       "      <td>0</td>\n",
       "      <td>0</td>\n",
       "      <td>0</td>\n",
       "      <td>0</td>\n",
       "      <td>0</td>\n",
       "      <td>1</td>\n",
       "      <td>0</td>\n",
       "      <td>0</td>\n",
       "      <td>0</td>\n",
       "      <td>0</td>\n",
       "      <td>C:\\Users\\Johnn\\Desktop\\ADS2002\\ranzcr-clip-cat...</td>\n",
       "    </tr>\n",
       "    <tr>\n",
       "      <th>bf4c6da3c</th>\n",
       "      <td>1.2.826.0.1.3680043.8.498.46302891597398758759...</td>\n",
       "      <td>0</td>\n",
       "      <td>0</td>\n",
       "      <td>1</td>\n",
       "      <td>0</td>\n",
       "      <td>0</td>\n",
       "      <td>1</td>\n",
       "      <td>0</td>\n",
       "      <td>0</td>\n",
       "      <td>0</td>\n",
       "      <td>1</td>\n",
       "      <td>0</td>\n",
       "      <td>C:\\Users\\Johnn\\Desktop\\ADS2002\\ranzcr-clip-cat...</td>\n",
       "    </tr>\n",
       "    <tr>\n",
       "      <th>3fc1c97e5</th>\n",
       "      <td>1.2.826.0.1.3680043.8.498.23819260719748494858...</td>\n",
       "      <td>0</td>\n",
       "      <td>0</td>\n",
       "      <td>0</td>\n",
       "      <td>0</td>\n",
       "      <td>0</td>\n",
       "      <td>0</td>\n",
       "      <td>0</td>\n",
       "      <td>0</td>\n",
       "      <td>1</td>\n",
       "      <td>0</td>\n",
       "      <td>0</td>\n",
       "      <td>C:\\Users\\Johnn\\Desktop\\ADS2002\\ranzcr-clip-cat...</td>\n",
       "    </tr>\n",
       "    <tr>\n",
       "      <th>c31019814</th>\n",
       "      <td>1.2.826.0.1.3680043.8.498.68286643202323212801...</td>\n",
       "      <td>0</td>\n",
       "      <td>0</td>\n",
       "      <td>0</td>\n",
       "      <td>0</td>\n",
       "      <td>0</td>\n",
       "      <td>0</td>\n",
       "      <td>0</td>\n",
       "      <td>1</td>\n",
       "      <td>0</td>\n",
       "      <td>0</td>\n",
       "      <td>0</td>\n",
       "      <td>C:\\Users\\Johnn\\Desktop\\ADS2002\\ranzcr-clip-cat...</td>\n",
       "    </tr>\n",
       "    <tr>\n",
       "      <th>207685cd1</th>\n",
       "      <td>1.2.826.0.1.3680043.8.498.10050203009225938259...</td>\n",
       "      <td>0</td>\n",
       "      <td>0</td>\n",
       "      <td>0</td>\n",
       "      <td>0</td>\n",
       "      <td>0</td>\n",
       "      <td>0</td>\n",
       "      <td>0</td>\n",
       "      <td>0</td>\n",
       "      <td>0</td>\n",
       "      <td>1</td>\n",
       "      <td>0</td>\n",
       "      <td>C:\\Users\\Johnn\\Desktop\\ADS2002\\ranzcr-clip-cat...</td>\n",
       "    </tr>\n",
       "  </tbody>\n",
       "</table>\n",
       "</div>"
      ],
      "text/plain": [
       "                                            StudyInstanceUID  ETT - Abnormal  \\\n",
       "PatientID                                                                      \n",
       "ec89415d1  1.2.826.0.1.3680043.8.498.26697628953273228189...               0   \n",
       "bf4c6da3c  1.2.826.0.1.3680043.8.498.46302891597398758759...               0   \n",
       "3fc1c97e5  1.2.826.0.1.3680043.8.498.23819260719748494858...               0   \n",
       "c31019814  1.2.826.0.1.3680043.8.498.68286643202323212801...               0   \n",
       "207685cd1  1.2.826.0.1.3680043.8.498.10050203009225938259...               0   \n",
       "\n",
       "           ETT - Borderline  ETT - Normal  NGT - Abnormal  NGT - Borderline  \\\n",
       "PatientID                                                                     \n",
       "ec89415d1                 0             0               0                 0   \n",
       "bf4c6da3c                 0             1               0                 0   \n",
       "3fc1c97e5                 0             0               0                 0   \n",
       "c31019814                 0             0               0                 0   \n",
       "207685cd1                 0             0               0                 0   \n",
       "\n",
       "           NGT - Incompletely Imaged  NGT - Normal  CVC - Abnormal  \\\n",
       "PatientID                                                            \n",
       "ec89415d1                          0             1               0   \n",
       "bf4c6da3c                          1             0               0   \n",
       "3fc1c97e5                          0             0               0   \n",
       "c31019814                          0             0               1   \n",
       "207685cd1                          0             0               0   \n",
       "\n",
       "           CVC - Borderline  CVC - Normal  Swan Ganz Catheter Present  \\\n",
       "PatientID                                                               \n",
       "ec89415d1                 0             0                           0   \n",
       "bf4c6da3c                 0             1                           0   \n",
       "3fc1c97e5                 1             0                           0   \n",
       "c31019814                 0             0                           0   \n",
       "207685cd1                 0             1                           0   \n",
       "\n",
       "                                                        path  \n",
       "PatientID                                                     \n",
       "ec89415d1  C:\\Users\\Johnn\\Desktop\\ADS2002\\ranzcr-clip-cat...  \n",
       "bf4c6da3c  C:\\Users\\Johnn\\Desktop\\ADS2002\\ranzcr-clip-cat...  \n",
       "3fc1c97e5  C:\\Users\\Johnn\\Desktop\\ADS2002\\ranzcr-clip-cat...  \n",
       "c31019814  C:\\Users\\Johnn\\Desktop\\ADS2002\\ranzcr-clip-cat...  \n",
       "207685cd1  C:\\Users\\Johnn\\Desktop\\ADS2002\\ranzcr-clip-cat...  "
      ]
     },
     "execution_count": 27,
     "metadata": {},
     "output_type": "execute_result"
    }
   ],
   "source": [
    "grouped_df = df.set_index('PatientID')\n",
    "grouped_df.head()"
   ]
  },
  {
   "cell_type": "code",
   "execution_count": 28,
   "metadata": {
    "colab": {
     "base_uri": "https://localhost:8080/",
     "height": 335
    },
    "id": "GF5DTZyQrDE6",
    "outputId": "2d5cac53-02d4-41ad-f8c9-7a4848d141f2"
   },
   "outputs": [
    {
     "data": {
      "text/html": [
       "<div>\n",
       "<style scoped>\n",
       "    .dataframe tbody tr th:only-of-type {\n",
       "        vertical-align: middle;\n",
       "    }\n",
       "\n",
       "    .dataframe tbody tr th {\n",
       "        vertical-align: top;\n",
       "    }\n",
       "\n",
       "    .dataframe thead th {\n",
       "        text-align: right;\n",
       "    }\n",
       "</style>\n",
       "<table border=\"1\" class=\"dataframe\">\n",
       "  <thead>\n",
       "    <tr style=\"text-align: right;\">\n",
       "      <th></th>\n",
       "      <th>StudyInstanceUID</th>\n",
       "      <th>ETT - Abnormal</th>\n",
       "      <th>ETT - Borderline</th>\n",
       "      <th>ETT - Normal</th>\n",
       "      <th>NGT - Abnormal</th>\n",
       "      <th>NGT - Borderline</th>\n",
       "      <th>NGT - Incompletely Imaged</th>\n",
       "      <th>NGT - Normal</th>\n",
       "      <th>CVC - Abnormal</th>\n",
       "      <th>CVC - Borderline</th>\n",
       "      <th>CVC - Normal</th>\n",
       "      <th>Swan Ganz Catheter Present</th>\n",
       "      <th>path</th>\n",
       "    </tr>\n",
       "    <tr>\n",
       "      <th>PatientID</th>\n",
       "      <th></th>\n",
       "      <th></th>\n",
       "      <th></th>\n",
       "      <th></th>\n",
       "      <th></th>\n",
       "      <th></th>\n",
       "      <th></th>\n",
       "      <th></th>\n",
       "      <th></th>\n",
       "      <th></th>\n",
       "      <th></th>\n",
       "      <th></th>\n",
       "      <th></th>\n",
       "    </tr>\n",
       "  </thead>\n",
       "  <tbody>\n",
       "    <tr>\n",
       "      <th>ec89415d1</th>\n",
       "      <td>1.2.826.0.1.3680043.8.498.12069601668869166279...</td>\n",
       "      <td>0</td>\n",
       "      <td>0</td>\n",
       "      <td>0</td>\n",
       "      <td>0</td>\n",
       "      <td>0</td>\n",
       "      <td>1</td>\n",
       "      <td>0</td>\n",
       "      <td>0</td>\n",
       "      <td>0</td>\n",
       "      <td>1</td>\n",
       "      <td>0</td>\n",
       "      <td>C:\\Users\\Johnn\\Desktop\\ADS2002\\ranzcr-clip-cat...</td>\n",
       "    </tr>\n",
       "    <tr>\n",
       "      <th>ec89415d1</th>\n",
       "      <td>1.2.826.0.1.3680043.8.498.13669042249425506984...</td>\n",
       "      <td>0</td>\n",
       "      <td>0</td>\n",
       "      <td>0</td>\n",
       "      <td>0</td>\n",
       "      <td>0</td>\n",
       "      <td>0</td>\n",
       "      <td>1</td>\n",
       "      <td>0</td>\n",
       "      <td>1</td>\n",
       "      <td>0</td>\n",
       "      <td>0</td>\n",
       "      <td>C:\\Users\\Johnn\\Desktop\\ADS2002\\ranzcr-clip-cat...</td>\n",
       "    </tr>\n",
       "    <tr>\n",
       "      <th>ec89415d1</th>\n",
       "      <td>1.2.826.0.1.3680043.8.498.26697628953273228189...</td>\n",
       "      <td>0</td>\n",
       "      <td>0</td>\n",
       "      <td>0</td>\n",
       "      <td>0</td>\n",
       "      <td>0</td>\n",
       "      <td>0</td>\n",
       "      <td>1</td>\n",
       "      <td>0</td>\n",
       "      <td>0</td>\n",
       "      <td>0</td>\n",
       "      <td>0</td>\n",
       "      <td>C:\\Users\\Johnn\\Desktop\\ADS2002\\ranzcr-clip-cat...</td>\n",
       "    </tr>\n",
       "    <tr>\n",
       "      <th>ec89415d1</th>\n",
       "      <td>1.2.826.0.1.3680043.8.498.34482941866634300538...</td>\n",
       "      <td>0</td>\n",
       "      <td>0</td>\n",
       "      <td>0</td>\n",
       "      <td>0</td>\n",
       "      <td>0</td>\n",
       "      <td>0</td>\n",
       "      <td>0</td>\n",
       "      <td>1</td>\n",
       "      <td>0</td>\n",
       "      <td>0</td>\n",
       "      <td>0</td>\n",
       "      <td>C:\\Users\\Johnn\\Desktop\\ADS2002\\ranzcr-clip-cat...</td>\n",
       "    </tr>\n",
       "    <tr>\n",
       "      <th>ec89415d1</th>\n",
       "      <td>1.2.826.0.1.3680043.8.498.58735051192792195566...</td>\n",
       "      <td>0</td>\n",
       "      <td>0</td>\n",
       "      <td>0</td>\n",
       "      <td>0</td>\n",
       "      <td>0</td>\n",
       "      <td>0</td>\n",
       "      <td>0</td>\n",
       "      <td>0</td>\n",
       "      <td>1</td>\n",
       "      <td>0</td>\n",
       "      <td>0</td>\n",
       "      <td>C:\\Users\\Johnn\\Desktop\\ADS2002\\ranzcr-clip-cat...</td>\n",
       "    </tr>\n",
       "    <tr>\n",
       "      <th>ec89415d1</th>\n",
       "      <td>1.2.826.0.1.3680043.8.498.76602365606870209106...</td>\n",
       "      <td>0</td>\n",
       "      <td>0</td>\n",
       "      <td>0</td>\n",
       "      <td>0</td>\n",
       "      <td>1</td>\n",
       "      <td>0</td>\n",
       "      <td>0</td>\n",
       "      <td>0</td>\n",
       "      <td>1</td>\n",
       "      <td>0</td>\n",
       "      <td>0</td>\n",
       "      <td>C:\\Users\\Johnn\\Desktop\\ADS2002\\ranzcr-clip-cat...</td>\n",
       "    </tr>\n",
       "  </tbody>\n",
       "</table>\n",
       "</div>"
      ],
      "text/plain": [
       "                                            StudyInstanceUID  ETT - Abnormal  \\\n",
       "PatientID                                                                      \n",
       "ec89415d1  1.2.826.0.1.3680043.8.498.12069601668869166279...               0   \n",
       "ec89415d1  1.2.826.0.1.3680043.8.498.13669042249425506984...               0   \n",
       "ec89415d1  1.2.826.0.1.3680043.8.498.26697628953273228189...               0   \n",
       "ec89415d1  1.2.826.0.1.3680043.8.498.34482941866634300538...               0   \n",
       "ec89415d1  1.2.826.0.1.3680043.8.498.58735051192792195566...               0   \n",
       "ec89415d1  1.2.826.0.1.3680043.8.498.76602365606870209106...               0   \n",
       "\n",
       "           ETT - Borderline  ETT - Normal  NGT - Abnormal  NGT - Borderline  \\\n",
       "PatientID                                                                     \n",
       "ec89415d1                 0             0               0                 0   \n",
       "ec89415d1                 0             0               0                 0   \n",
       "ec89415d1                 0             0               0                 0   \n",
       "ec89415d1                 0             0               0                 0   \n",
       "ec89415d1                 0             0               0                 0   \n",
       "ec89415d1                 0             0               0                 1   \n",
       "\n",
       "           NGT - Incompletely Imaged  NGT - Normal  CVC - Abnormal  \\\n",
       "PatientID                                                            \n",
       "ec89415d1                          1             0               0   \n",
       "ec89415d1                          0             1               0   \n",
       "ec89415d1                          0             1               0   \n",
       "ec89415d1                          0             0               1   \n",
       "ec89415d1                          0             0               0   \n",
       "ec89415d1                          0             0               0   \n",
       "\n",
       "           CVC - Borderline  CVC - Normal  Swan Ganz Catheter Present  \\\n",
       "PatientID                                                               \n",
       "ec89415d1                 0             1                           0   \n",
       "ec89415d1                 1             0                           0   \n",
       "ec89415d1                 0             0                           0   \n",
       "ec89415d1                 0             0                           0   \n",
       "ec89415d1                 1             0                           0   \n",
       "ec89415d1                 1             0                           0   \n",
       "\n",
       "                                                        path  \n",
       "PatientID                                                     \n",
       "ec89415d1  C:\\Users\\Johnn\\Desktop\\ADS2002\\ranzcr-clip-cat...  \n",
       "ec89415d1  C:\\Users\\Johnn\\Desktop\\ADS2002\\ranzcr-clip-cat...  \n",
       "ec89415d1  C:\\Users\\Johnn\\Desktop\\ADS2002\\ranzcr-clip-cat...  \n",
       "ec89415d1  C:\\Users\\Johnn\\Desktop\\ADS2002\\ranzcr-clip-cat...  \n",
       "ec89415d1  C:\\Users\\Johnn\\Desktop\\ADS2002\\ranzcr-clip-cat...  \n",
       "ec89415d1  C:\\Users\\Johnn\\Desktop\\ADS2002\\ranzcr-clip-cat...  "
      ]
     },
     "execution_count": 28,
     "metadata": {},
     "output_type": "execute_result"
    }
   ],
   "source": [
    "grouped_df.loc['ec89415d1'].sort_values(by=['StudyInstanceUID'])"
   ]
  },
  {
   "cell_type": "markdown",
   "metadata": {
    "id": "R7ECecrgrSi6"
   },
   "source": [
    "As the dataframe above suggests, there exists multiple records for a single patient.\n",
    "\n",
    "Hence, when selecting the images for training and validation, patients of the same ID need to be kept within their distinct splits. Otherwise data leakage occurs, and the model provide outputs without learning, due to already prelearning the output. \n",
    "\n",
    "Thus, for training/validation split, must group on `PatientID` and split accordingly.\n",
    "\n",
    "# Splitting Data"
   ]
  },
  {
   "cell_type": "code",
   "execution_count": 38,
   "metadata": {
    "id": "GKcsjo98ubY3"
   },
   "outputs": [],
   "source": [
    "grouped_df = df.groupby('PatientID')\n",
    "train_list = [group for _, group in grouped_df]"
   ]
  },
  {
   "cell_type": "markdown",
   "metadata": {
    "id": "ZWtBV4WJvXPv"
   },
   "source": [
    "`train_list` is a list of dataframes for each patient.\n",
    "\n",
    "`train_list[0]` gives dataframe for `PatientID` - 003e65ddb"
   ]
  },
  {
   "cell_type": "code",
   "execution_count": 39,
   "metadata": {
    "colab": {
     "base_uri": "https://localhost:8080/"
    },
    "id": "5FbHDZqLuoz3",
    "outputId": "74dda81d-7a62-4d11-d41f-d90e411ced22"
   },
   "outputs": [
    {
     "name": "stdout",
     "output_type": "stream",
     "text": [
      "Train Size: 24100, Valid Size: 5983\n"
     ]
    }
   ],
   "source": [
    "def train_valid_splitter(d, train_size=0.8):\n",
    "    n = len(d)\n",
    "    trains = d[:int(train_size*n)]\n",
    "    valids = d[int(train_size*n):]\n",
    "    return trains, valids\n",
    "\n",
    "train_split, valid_split = train_valid_splitter(train_list)\n",
    "train_df = pd.concat(train_split, axis=0)\n",
    "valid_df = pd.concat(valid_split, axis=0)\n",
    "\n",
    "print(f'Train Size: {len(train_df)}, Valid Size: {len(valid_df)}')"
   ]
  },
  {
   "cell_type": "code",
   "execution_count": 40,
   "metadata": {
    "colab": {
     "base_uri": "https://localhost:8080/",
     "height": 487
    },
    "id": "mv28K6bEuo3w",
    "outputId": "ecbe8f33-c1e0-461a-a434-03421ececa02"
   },
   "outputs": [
    {
     "data": {
      "text/html": [
       "<div>\n",
       "<style scoped>\n",
       "    .dataframe tbody tr th:only-of-type {\n",
       "        vertical-align: middle;\n",
       "    }\n",
       "\n",
       "    .dataframe tbody tr th {\n",
       "        vertical-align: top;\n",
       "    }\n",
       "\n",
       "    .dataframe thead th {\n",
       "        text-align: right;\n",
       "    }\n",
       "</style>\n",
       "<table border=\"1\" class=\"dataframe\">\n",
       "  <thead>\n",
       "    <tr style=\"text-align: right;\">\n",
       "      <th></th>\n",
       "      <th>StudyInstanceUID</th>\n",
       "      <th>ETT - Abnormal</th>\n",
       "      <th>ETT - Borderline</th>\n",
       "      <th>ETT - Normal</th>\n",
       "      <th>NGT - Abnormal</th>\n",
       "      <th>NGT - Borderline</th>\n",
       "      <th>NGT - Incompletely Imaged</th>\n",
       "      <th>NGT - Normal</th>\n",
       "      <th>CVC - Abnormal</th>\n",
       "      <th>CVC - Borderline</th>\n",
       "      <th>CVC - Normal</th>\n",
       "      <th>Swan Ganz Catheter Present</th>\n",
       "      <th>PatientID</th>\n",
       "      <th>path</th>\n",
       "    </tr>\n",
       "  </thead>\n",
       "  <tbody>\n",
       "    <tr>\n",
       "      <th>15388</th>\n",
       "      <td>1.2.826.0.1.3680043.8.498.59892784756152007438...</td>\n",
       "      <td>0</td>\n",
       "      <td>0</td>\n",
       "      <td>0</td>\n",
       "      <td>0</td>\n",
       "      <td>0</td>\n",
       "      <td>0</td>\n",
       "      <td>0</td>\n",
       "      <td>1</td>\n",
       "      <td>0</td>\n",
       "      <td>0</td>\n",
       "      <td>0</td>\n",
       "      <td>003e65ddb</td>\n",
       "      <td>C:\\Users\\Johnn\\Desktop\\ADS2002\\ranzcr-clip-cat...</td>\n",
       "    </tr>\n",
       "    <tr>\n",
       "      <th>26606</th>\n",
       "      <td>1.2.826.0.1.3680043.8.498.99288640270596999784...</td>\n",
       "      <td>0</td>\n",
       "      <td>0</td>\n",
       "      <td>0</td>\n",
       "      <td>0</td>\n",
       "      <td>0</td>\n",
       "      <td>0</td>\n",
       "      <td>0</td>\n",
       "      <td>0</td>\n",
       "      <td>0</td>\n",
       "      <td>1</td>\n",
       "      <td>0</td>\n",
       "      <td>003e65ddb</td>\n",
       "      <td>C:\\Users\\Johnn\\Desktop\\ADS2002\\ranzcr-clip-cat...</td>\n",
       "    </tr>\n",
       "    <tr>\n",
       "      <th>26736</th>\n",
       "      <td>1.2.826.0.1.3680043.8.498.24106277096191278042...</td>\n",
       "      <td>0</td>\n",
       "      <td>0</td>\n",
       "      <td>0</td>\n",
       "      <td>0</td>\n",
       "      <td>0</td>\n",
       "      <td>0</td>\n",
       "      <td>0</td>\n",
       "      <td>1</td>\n",
       "      <td>0</td>\n",
       "      <td>0</td>\n",
       "      <td>0</td>\n",
       "      <td>003e65ddb</td>\n",
       "      <td>C:\\Users\\Johnn\\Desktop\\ADS2002\\ranzcr-clip-cat...</td>\n",
       "    </tr>\n",
       "    <tr>\n",
       "      <th>11171</th>\n",
       "      <td>1.2.826.0.1.3680043.8.498.48867760618674148489...</td>\n",
       "      <td>0</td>\n",
       "      <td>0</td>\n",
       "      <td>0</td>\n",
       "      <td>0</td>\n",
       "      <td>0</td>\n",
       "      <td>0</td>\n",
       "      <td>0</td>\n",
       "      <td>0</td>\n",
       "      <td>1</td>\n",
       "      <td>0</td>\n",
       "      <td>0</td>\n",
       "      <td>00757839e</td>\n",
       "      <td>C:\\Users\\Johnn\\Desktop\\ADS2002\\ranzcr-clip-cat...</td>\n",
       "    </tr>\n",
       "    <tr>\n",
       "      <th>16045</th>\n",
       "      <td>1.2.826.0.1.3680043.8.498.42161315615619527946...</td>\n",
       "      <td>0</td>\n",
       "      <td>0</td>\n",
       "      <td>0</td>\n",
       "      <td>0</td>\n",
       "      <td>0</td>\n",
       "      <td>0</td>\n",
       "      <td>0</td>\n",
       "      <td>0</td>\n",
       "      <td>0</td>\n",
       "      <td>1</td>\n",
       "      <td>0</td>\n",
       "      <td>00757839e</td>\n",
       "      <td>C:\\Users\\Johnn\\Desktop\\ADS2002\\ranzcr-clip-cat...</td>\n",
       "    </tr>\n",
       "    <tr>\n",
       "      <th>...</th>\n",
       "      <td>...</td>\n",
       "      <td>...</td>\n",
       "      <td>...</td>\n",
       "      <td>...</td>\n",
       "      <td>...</td>\n",
       "      <td>...</td>\n",
       "      <td>...</td>\n",
       "      <td>...</td>\n",
       "      <td>...</td>\n",
       "      <td>...</td>\n",
       "      <td>...</td>\n",
       "      <td>...</td>\n",
       "      <td>...</td>\n",
       "      <td>...</td>\n",
       "    </tr>\n",
       "    <tr>\n",
       "      <th>1155</th>\n",
       "      <td>1.2.826.0.1.3680043.8.498.35342516979031910596...</td>\n",
       "      <td>0</td>\n",
       "      <td>0</td>\n",
       "      <td>0</td>\n",
       "      <td>0</td>\n",
       "      <td>0</td>\n",
       "      <td>0</td>\n",
       "      <td>0</td>\n",
       "      <td>0</td>\n",
       "      <td>0</td>\n",
       "      <td>1</td>\n",
       "      <td>0</td>\n",
       "      <td>cff48b351</td>\n",
       "      <td>C:\\Users\\Johnn\\Desktop\\ADS2002\\ranzcr-clip-cat...</td>\n",
       "    </tr>\n",
       "    <tr>\n",
       "      <th>6027</th>\n",
       "      <td>1.2.826.0.1.3680043.8.498.29151406117761819957...</td>\n",
       "      <td>0</td>\n",
       "      <td>0</td>\n",
       "      <td>0</td>\n",
       "      <td>0</td>\n",
       "      <td>0</td>\n",
       "      <td>0</td>\n",
       "      <td>0</td>\n",
       "      <td>0</td>\n",
       "      <td>0</td>\n",
       "      <td>1</td>\n",
       "      <td>0</td>\n",
       "      <td>cff48b351</td>\n",
       "      <td>C:\\Users\\Johnn\\Desktop\\ADS2002\\ranzcr-clip-cat...</td>\n",
       "    </tr>\n",
       "    <tr>\n",
       "      <th>15510</th>\n",
       "      <td>1.2.826.0.1.3680043.8.498.10464763505639233965...</td>\n",
       "      <td>0</td>\n",
       "      <td>0</td>\n",
       "      <td>0</td>\n",
       "      <td>0</td>\n",
       "      <td>0</td>\n",
       "      <td>0</td>\n",
       "      <td>0</td>\n",
       "      <td>0</td>\n",
       "      <td>1</td>\n",
       "      <td>0</td>\n",
       "      <td>0</td>\n",
       "      <td>cff48b351</td>\n",
       "      <td>C:\\Users\\Johnn\\Desktop\\ADS2002\\ranzcr-clip-cat...</td>\n",
       "    </tr>\n",
       "    <tr>\n",
       "      <th>26603</th>\n",
       "      <td>1.2.826.0.1.3680043.8.498.12245783950654018071...</td>\n",
       "      <td>0</td>\n",
       "      <td>0</td>\n",
       "      <td>0</td>\n",
       "      <td>0</td>\n",
       "      <td>0</td>\n",
       "      <td>0</td>\n",
       "      <td>0</td>\n",
       "      <td>0</td>\n",
       "      <td>0</td>\n",
       "      <td>1</td>\n",
       "      <td>0</td>\n",
       "      <td>cff48b351</td>\n",
       "      <td>C:\\Users\\Johnn\\Desktop\\ADS2002\\ranzcr-clip-cat...</td>\n",
       "    </tr>\n",
       "    <tr>\n",
       "      <th>27938</th>\n",
       "      <td>1.2.826.0.1.3680043.8.498.54449518688473247250...</td>\n",
       "      <td>0</td>\n",
       "      <td>0</td>\n",
       "      <td>0</td>\n",
       "      <td>0</td>\n",
       "      <td>0</td>\n",
       "      <td>0</td>\n",
       "      <td>0</td>\n",
       "      <td>0</td>\n",
       "      <td>0</td>\n",
       "      <td>1</td>\n",
       "      <td>0</td>\n",
       "      <td>cff48b351</td>\n",
       "      <td>C:\\Users\\Johnn\\Desktop\\ADS2002\\ranzcr-clip-cat...</td>\n",
       "    </tr>\n",
       "  </tbody>\n",
       "</table>\n",
       "<p>24100 rows × 14 columns</p>\n",
       "</div>"
      ],
      "text/plain": [
       "                                        StudyInstanceUID  ETT - Abnormal  \\\n",
       "15388  1.2.826.0.1.3680043.8.498.59892784756152007438...               0   \n",
       "26606  1.2.826.0.1.3680043.8.498.99288640270596999784...               0   \n",
       "26736  1.2.826.0.1.3680043.8.498.24106277096191278042...               0   \n",
       "11171  1.2.826.0.1.3680043.8.498.48867760618674148489...               0   \n",
       "16045  1.2.826.0.1.3680043.8.498.42161315615619527946...               0   \n",
       "...                                                  ...             ...   \n",
       "1155   1.2.826.0.1.3680043.8.498.35342516979031910596...               0   \n",
       "6027   1.2.826.0.1.3680043.8.498.29151406117761819957...               0   \n",
       "15510  1.2.826.0.1.3680043.8.498.10464763505639233965...               0   \n",
       "26603  1.2.826.0.1.3680043.8.498.12245783950654018071...               0   \n",
       "27938  1.2.826.0.1.3680043.8.498.54449518688473247250...               0   \n",
       "\n",
       "       ETT - Borderline  ETT - Normal  NGT - Abnormal  NGT - Borderline  \\\n",
       "15388                 0             0               0                 0   \n",
       "26606                 0             0               0                 0   \n",
       "26736                 0             0               0                 0   \n",
       "11171                 0             0               0                 0   \n",
       "16045                 0             0               0                 0   \n",
       "...                 ...           ...             ...               ...   \n",
       "1155                  0             0               0                 0   \n",
       "6027                  0             0               0                 0   \n",
       "15510                 0             0               0                 0   \n",
       "26603                 0             0               0                 0   \n",
       "27938                 0             0               0                 0   \n",
       "\n",
       "       NGT - Incompletely Imaged  NGT - Normal  CVC - Abnormal  \\\n",
       "15388                          0             0               1   \n",
       "26606                          0             0               0   \n",
       "26736                          0             0               1   \n",
       "11171                          0             0               0   \n",
       "16045                          0             0               0   \n",
       "...                          ...           ...             ...   \n",
       "1155                           0             0               0   \n",
       "6027                           0             0               0   \n",
       "15510                          0             0               0   \n",
       "26603                          0             0               0   \n",
       "27938                          0             0               0   \n",
       "\n",
       "       CVC - Borderline  CVC - Normal  Swan Ganz Catheter Present  PatientID  \\\n",
       "15388                 0             0                           0  003e65ddb   \n",
       "26606                 0             1                           0  003e65ddb   \n",
       "26736                 0             0                           0  003e65ddb   \n",
       "11171                 1             0                           0  00757839e   \n",
       "16045                 0             1                           0  00757839e   \n",
       "...                 ...           ...                         ...        ...   \n",
       "1155                  0             1                           0  cff48b351   \n",
       "6027                  0             1                           0  cff48b351   \n",
       "15510                 1             0                           0  cff48b351   \n",
       "26603                 0             1                           0  cff48b351   \n",
       "27938                 0             1                           0  cff48b351   \n",
       "\n",
       "                                                    path  \n",
       "15388  C:\\Users\\Johnn\\Desktop\\ADS2002\\ranzcr-clip-cat...  \n",
       "26606  C:\\Users\\Johnn\\Desktop\\ADS2002\\ranzcr-clip-cat...  \n",
       "26736  C:\\Users\\Johnn\\Desktop\\ADS2002\\ranzcr-clip-cat...  \n",
       "11171  C:\\Users\\Johnn\\Desktop\\ADS2002\\ranzcr-clip-cat...  \n",
       "16045  C:\\Users\\Johnn\\Desktop\\ADS2002\\ranzcr-clip-cat...  \n",
       "...                                                  ...  \n",
       "1155   C:\\Users\\Johnn\\Desktop\\ADS2002\\ranzcr-clip-cat...  \n",
       "6027   C:\\Users\\Johnn\\Desktop\\ADS2002\\ranzcr-clip-cat...  \n",
       "15510  C:\\Users\\Johnn\\Desktop\\ADS2002\\ranzcr-clip-cat...  \n",
       "26603  C:\\Users\\Johnn\\Desktop\\ADS2002\\ranzcr-clip-cat...  \n",
       "27938  C:\\Users\\Johnn\\Desktop\\ADS2002\\ranzcr-clip-cat...  \n",
       "\n",
       "[24100 rows x 14 columns]"
      ]
     },
     "execution_count": 40,
     "metadata": {},
     "output_type": "execute_result"
    }
   ],
   "source": [
    "train_df"
   ]
  },
  {
   "cell_type": "markdown",
   "metadata": {
    "id": "PJFPO0vPzSjl"
   },
   "source": [
    "# Create Data Generators\n",
    "\n",
    "Using `ImagDataGenerator`, we can build the inital pipeline of the model.\n",
    "\n",
    "Image transforms include horizontally flipping and rotating (by 0.4 radians, just a randomly chosen number)."
   ]
  },
  {
   "cell_type": "code",
   "execution_count": 41,
   "metadata": {
    "colab": {
     "base_uri": "https://localhost:8080/"
    },
    "id": "_iGnieLAzXSS",
    "outputId": "dd4e0bfd-b48c-44e1-b961-a2a43d1031b9"
   },
   "outputs": [
    {
     "name": "stdout",
     "output_type": "stream",
     "text": [
      "Found 24100 validated image filenames.\n"
     ]
    }
   ],
   "source": [
    "train_generator = tf.keras.preprocessing.image.ImageDataGenerator(\n",
    "    rescale=1./255,\n",
    "    horizontal_flip=True,\n",
    "    rotation_range=0.40\n",
    ")\n",
    "\n",
    "train_datagen = train_generator.flow_from_dataframe(\n",
    "    dataframe=train_df,\n",
    "    x_col='path',\n",
    "    y_col=all_labels,\n",
    "    target_size=(IMG_SIZE, IMG_SIZE),\n",
    "    batch_size=BATCH_SIZE,\n",
    "    seed=42,\n",
    "    class_mode='raw'\n",
    ")"
   ]
  },
  {
   "cell_type": "code",
   "execution_count": 42,
   "metadata": {
    "colab": {
     "base_uri": "https://localhost:8080/"
    },
    "id": "paAsHt2dzuri",
    "outputId": "faf85eea-be0a-4160-9d85-4f704925689f"
   },
   "outputs": [
    {
     "name": "stdout",
     "output_type": "stream",
     "text": [
      "Found 5983 validated image filenames.\n"
     ]
    }
   ],
   "source": [
    "valid_generator = tf.keras.preprocessing.image.ImageDataGenerator(rescale=1./255)\n",
    "\n",
    "valid_datagen = valid_generator.flow_from_dataframe(\n",
    "    dataframe=valid_df,\n",
    "    x_col='path',\n",
    "    y_col=all_labels,\n",
    "    target_size=(IMG_SIZE, IMG_SIZE),\n",
    "    batch_size=BATCH_SIZE,\n",
    "    seed=42,\n",
    "    class_mode='raw'\n",
    ")"
   ]
  },
  {
   "cell_type": "code",
   "execution_count": 43,
   "metadata": {
    "id": "N68TBNLusYEm"
   },
   "outputs": [],
   "source": [
    "def display_batch(batch, n_imgs=9):\n",
    "    r = int(n_imgs**0.5)\n",
    "    fig, axs = plt.subplots(r, r, figsize=(12, 15))\n",
    "    imgs, labels = batch[0], batch[1]\n",
    "    for i, ax in zip(range(n_imgs), axs.flatten()):\n",
    "        title = '\\n'.join(list(np.array(all_labels)[labels[i].flatten()==1]))\n",
    "        ax.imshow(imgs[i], cmap='bone')\n",
    "        ax.set_title(title)\n",
    "        ax.grid(False)\n",
    "        ax.set_xticks([])\n",
    "        ax.set_yticks([])\n",
    "    plt.show()"
   ]
  },
  {
   "cell_type": "code",
   "execution_count": 44,
   "metadata": {
    "colab": {
     "base_uri": "https://localhost:8080/",
     "height": 834
    },
    "id": "J7CuWtFxaMBG",
    "outputId": "80cb6338-29f7-45e5-85ed-e06ad7c4f03a"
   },
   "outputs": [
    {
     "data": {
      "image/png": "[encoded data removed]",
      "text/plain": [
       "<Figure size 864x1080 with 9 Axes>"
      ]
     },
     "metadata": {},
     "output_type": "display_data"
    }
   ],
   "source": [
    "display_batch(next(train_datagen))"
   ]
  },
  {
   "cell_type": "markdown",
   "metadata": {
    "id": "bjPP2Ee7dv7C"
   },
   "source": [
    "# Model Building"
   ]
  },
  {
   "cell_type": "code",
   "execution_count": 45,
   "metadata": {
    "colab": {
     "base_uri": "https://localhost:8080/"
    },
    "id": "uH-v727QaZZr",
    "outputId": "3f7f4611-bfa3-4969-a488-305f51d7b512"
   },
   "outputs": [
    {
     "name": "stdout",
     "output_type": "stream",
     "text": [
      "Note: you may need to restart the kernel to use updated packages.\n"
     ]
    }
   ],
   "source": [
    "pip install image-classifiers -q"
   ]
  },
  {
   "cell_type": "code",
   "execution_count": 24,
   "metadata": {
    "id": "yd5X14pId2Uw"
   },
   "outputs": [],
   "source": [
    "from classification_models.tfkeras import Classifiers\n",
    "\n",
    "ResNet18, proc_func = Classifiers.get('resnet18')"
   ]
  },
  {
   "cell_type": "code",
   "execution_count": 46,
   "metadata": {
    "colab": {
     "base_uri": "https://localhost:8080/"
    },
    "id": "wFz4urNxd2r4",
    "outputId": "5aa7d0d8-73ad-4aef-e303-9c469700a6af"
   },
   "outputs": [
    {
     "name": "stdout",
     "output_type": "stream",
     "text": [
      "Downloading data from https://storage.googleapis.com/tensorflow/keras-applications/densenet/densenet121_weights_tf_dim_ordering_tf_kernels_notop.h5\n",
      "29089792/29084464 [==============================] - 3s 0us/step\n",
      "29097984/29084464 [==============================] - 3s 0us/step\n",
      "Model: \"model\"\n",
      "_________________________________________________________________\n",
      "Layer (type)                 Output Shape              Param #   \n",
      "=================================================================\n",
      "input_1 (InputLayer)         [(None, 224, 224, 3)]     0         \n",
      "_________________________________________________________________\n",
      "densenet121 (Functional)     (None, 7, 7, 1024)        7037504   \n",
      "_________________________________________________________________\n",
      "global_average_pooling2d (Gl (None, 1024)              0         \n",
      "_________________________________________________________________\n",
      "dense (Dense)                (None, 11)                11275     \n",
      "=================================================================\n",
      "Total params: 7,048,779\n",
      "Trainable params: 11,275\n",
      "Non-trainable params: 7,037,504\n",
      "_________________________________________________________________\n"
     ]
    }
   ],
   "source": [
    "densenet = tf.keras.applications.DenseNet121(weights='imagenet', include_top=False, input_shape=(IMG_SIZE, IMG_SIZE, 3))\n",
    "densenet.trainable = False\n",
    "\n",
    "inputs = densenet.inputs\n",
    "x = densenet(inputs)\n",
    "\n",
    "x = tf.keras.layers.GlobalAveragePooling2D()(x)\n",
    "outputs = tf.keras.layers.Dense(len(all_labels), activation='sigmoid')(x)\n",
    "model = tf.keras.Model(inputs, outputs)\n",
    "\n",
    "model.summary()"
   ]
  },
  {
   "cell_type": "markdown",
   "metadata": {
    "id": "DleFnEZteDKJ"
   },
   "source": [
    "# Learning Rate\n",
    "Build a learning rate finder to find an optimal lr for finetuning the model."
   ]
  },
  {
   "cell_type": "code",
   "execution_count": 47,
   "metadata": {
    "id": "P2mY6GFRd9kS"
   },
   "outputs": [],
   "source": [
    "class LRFinder:\n",
    "    def __init__(self, model, lr_range=[1e-10, 1e1], beta=0.98, stop_factor=4):\n",
    "        self.model = model\n",
    "        self.lr_range = lr_range\n",
    "        self.beta = beta\n",
    "        self.stop_factor = stop_factor\n",
    "        self.stop_training = False\n",
    "        self.iterations = 0\n",
    "        self.mvg_avg_loss = 0\n",
    "        self.min_loss = 1e9\n",
    "        self.lrs = []\n",
    "        self.losses = []\n",
    "\n",
    "    def _reset(self):\n",
    "        self.stop_training = False\n",
    "        self.iterations = 0\n",
    "        self.mvg_avg_loss = 0\n",
    "        self.min_loss = 1e9\n",
    "        self.lrs = []\n",
    "        self.losses = []\n",
    "\n",
    "    def _scheduler(self, start_lr, end_lr, iterations):\n",
    "        self.lr_factor = (end_lr / start_lr)**(1./iterations)\n",
    "\n",
    "    def on_train_begin(self, logs=None):\n",
    "        self._reset()\n",
    "\n",
    "    def on_batch_end(self, batch, logs=None):\n",
    "        self.iterations += 1\n",
    "\n",
    "        lr = tf.keras.backend.get_value(self.model.optimizer.lr)\n",
    "        self.lrs.append(lr)\n",
    "        tf.keras.backend.set_value(self.model.optimizer.lr, lr*self.lr_factor)\n",
    "\n",
    "        loss = logs['loss']\n",
    "        self.mvg_avg_loss = (self.beta*self.mvg_avg_loss) + ((1-self.beta)*loss)\n",
    "        smooth_loss = self.mvg_avg_loss / (1-(self.beta**self.iterations))\n",
    "        self.losses.append(smooth_loss)\n",
    "\n",
    "        stop_loss = self.stop_factor * self.min_loss\n",
    "        if self.iterations > 1 and smooth_loss > self.stop_factor:\n",
    "            self.stop_training = True\n",
    "\n",
    "        if self.iterations == 0 or smooth_loss < self.min_loss:\n",
    "            self.min_loss = smooth_loss\n",
    "#         print(f'\\nIterations: {self.iterations}, lr: {lr}, loss: {smooth_loss}/{loss}, lrf: {self.lr_factor}')\n",
    "\n",
    "    def on_epoch_end(self, epoch, logs=None):\n",
    "        if self.stop_training:\n",
    "            self.model.stop_training = True\n",
    "            return\n",
    "\n",
    "    def find(self, train_ds, epochs=None, steps_per_epoch=None, batch_size=32):\n",
    "        if epochs is None:\n",
    "            raise ValueError(f'Invalid value {epochs} for epochs')\n",
    "\n",
    "        if steps_per_epoch is None:\n",
    "            steps_per_epoch = len(train_ds)\n",
    "            \n",
    "        self._scheduler(self.lr_range[0], self.lr_range[1], steps_per_epoch*epochs)\n",
    "\n",
    "        with tempfile.NamedTemporaryFile(prefix='init', suffix='.h5') as init_config:\n",
    "            # save model config\n",
    "            self.model.save_weights(init_config.name)\n",
    "            init_lr = tf.keras.backend.get_value(self.model.optimizer.lr)\n",
    "            \n",
    "            tf.keras.backend.set_value(self.model.optimizer.lr, self.lr_range[0])\n",
    "\n",
    "            lr_finder_cb = tf.keras.callbacks.LambdaCallback(\n",
    "                on_train_begin= lambda logs: self.on_train_begin(logs),\n",
    "                on_batch_end= lambda batch, logs: self.on_batch_end(batch, logs),\n",
    "                on_epoch_end= lambda epoch, logs: self.on_epoch_end(epoch, logs)\n",
    "            )\n",
    "\n",
    "            self.model.fit(train_ds, epochs=epochs, steps_per_epoch=steps_per_epoch,\n",
    "                           callbacks=[lr_finder_cb])\n",
    "\n",
    "            # restore model config\n",
    "            tf.keras.backend.set_value(self.model.optimizer.lr, init_lr)\n",
    "            self.model.load_weights(init_config.name)\n",
    "\n",
    "    def plot_loss(self, skip_begin=10, skip_end=1, title=\"\"):\n",
    "        lrs = self.lrs[skip_begin:-skip_end]\n",
    "        losses = self.losses[skip_begin:-skip_end]\n",
    "        plt.plot(lrs, losses)\n",
    "        plt.xscale(\"log\")\n",
    "        plt.xlabel(\"Learning Rate (Log Scale)\")\n",
    "        plt.ylabel(\"Loss\")"
   ]
  },
  {
   "cell_type": "markdown",
   "metadata": {
    "id": "LjG8uxY5irdf"
   },
   "source": [
    "Compute lr"
   ]
  },
  {
   "cell_type": "code",
   "execution_count": null,
   "metadata": {
    "id": "YzS4CvviegOM"
   },
   "outputs": [],
   "source": [
    "# model.compile(optimizer='adam',\n",
    "#               loss='binary_crossentropy',\n",
    "#               metrics=['binary_accuracy', tf.keras.metrics.AUC()])\n",
    "\n",
    "# lr_finder = LRFinder(model)\n",
    "# lr_finder.find(train_datagen, epochs=10)"
   ]
  },
  {
   "cell_type": "markdown",
   "metadata": {
    "id": "uMLJ_9-yjaOV"
   },
   "source": [
    "For our CLR we can use a minimum learning rate of 1e-2 and a maximum learning rate of 1e-5.\n",
    "\n",
    "`CyclicalLearningRate` provided by tensorflow_addons library, keep the initial learning rate to 1e-5 and the maximum learning rate to be 1e-2 and use a 'traingular' approach of CLR. \n",
    "\n",
    "We are keeping the step size = 2 epochs. Hence, to perform 1 cycle we will need to perform 4 epochs."
   ]
  },
  {
   "cell_type": "code",
   "execution_count": 48,
   "metadata": {
    "id": "ZGCHPv9Zejyw"
   },
   "outputs": [],
   "source": [
    "def scale_fn(x):  return 1."
   ]
  },
  {
   "cell_type": "code",
   "execution_count": 49,
   "metadata": {
    "id": "w8d5BgidjseD"
   },
   "outputs": [],
   "source": [
    "clr = tfa.optimizers.CyclicalLearningRate(\n",
    "    initial_learning_rate=1e-5,\n",
    "    maximal_learning_rate=1e-2,\n",
    "    scale_fn=scale_fn,\n",
    "    step_size=2*len(train_datagen)*BATCH_SIZE,\n",
    "    scale_mode='cyclic'\n",
    ")"
   ]
  },
  {
   "cell_type": "markdown",
   "metadata": {
    "id": "HA0sR0FMj18r"
   },
   "source": [
    "To evaluate our model we will use 'binary_accuracy' and 'AUROC Score', as our model itself will be evaluated on the AUROC score."
   ]
  },
  {
   "cell_type": "code",
   "execution_count": 50,
   "metadata": {
    "id": "0O-FpLEWj2wu"
   },
   "outputs": [],
   "source": [
    "model.compile(optimizer=tf.keras.optimizers.Adam(learning_rate=clr),\n",
    "              loss='binary_crossentropy',\n",
    "              metrics=['binary_accuracy', tf.keras.metrics.AUC()])"
   ]
  },
  {
   "cell_type": "code",
   "execution_count": 51,
   "metadata": {
    "id": "hXpT0vMhj5fX"
   },
   "outputs": [
    {
     "name": "stdout",
     "output_type": "stream",
     "text": [
      "Epoch 1/4\n",
      "1507/1507 [==============================] - 4515s 3s/step - loss: 0.3678 - binary_accuracy: 0.8354 - auc: 0.8157 - val_loss: 0.2649 - val_binary_accuracy: 0.8880 - val_auc: 0.8987\n",
      "Epoch 2/4\n",
      "1507/1507 [==============================] - 5097s 3s/step - loss: 0.2630 - binary_accuracy: 0.8912 - auc: 0.9042 - val_loss: 0.2573 - val_binary_accuracy: 0.8896 - val_auc: 0.9082\n",
      "Epoch 3/4\n",
      "1507/1507 [==============================] - 7378s 5s/step - loss: 0.2560 - binary_accuracy: 0.8923 - auc: 0.9107 - val_loss: 0.2537 - val_binary_accuracy: 0.8904 - val_auc: 0.9111\n",
      "Epoch 4/4\n",
      "1507/1507 [==============================] - 5360s 4s/step - loss: 0.2523 - binary_accuracy: 0.8931 - auc: 0.9139 - val_loss: 0.2498 - val_binary_accuracy: 0.8912 - val_auc: 0.9130\n"
     ]
    },
    {
     "data": {
      "text/plain": [
       "<keras.callbacks.History at 0x1f31cf9af70>"
      ]
     },
     "execution_count": 51,
     "metadata": {},
     "output_type": "execute_result"
    }
   ],
   "source": [
    "model.fit(train_datagen, epochs=4, batch_size=BATCH_SIZE, \n",
    "          steps_per_epoch=len(train_datagen), \n",
    "          validation_data=valid_datagen,\n",
    "          validation_steps=len(valid_datagen))"
   ]
  },
  {
   "cell_type": "code",
   "execution_count": 52,
   "metadata": {
    "id": "AbTW-n6BkrDb"
   },
   "outputs": [
    {
     "name": "stdout",
     "output_type": "stream",
     "text": [
      "INFO:tensorflow:Assets written to: model_1\\assets\n"
     ]
    }
   ],
   "source": [
    "model.save(\"model_1\")"
   ]
  },
  {
   "cell_type": "markdown",
   "metadata": {},
   "source": [
    "   Now, we unfreze the model and finetune the entire model."
   ]
  },
  {
   "cell_type": "code",
   "execution_count": 54,
   "metadata": {},
   "outputs": [
    {
     "name": "stdout",
     "output_type": "stream",
     "text": [
      "Model: \"model\"\n",
      "_________________________________________________________________\n",
      "Layer (type)                 Output Shape              Param #   \n",
      "=================================================================\n",
      "input_1 (InputLayer)         [(None, 224, 224, 3)]     0         \n",
      "_________________________________________________________________\n",
      "densenet121 (Functional)     (None, 7, 7, 1024)        7037504   \n",
      "_________________________________________________________________\n",
      "global_average_pooling2d (Gl (None, 1024)              0         \n",
      "_________________________________________________________________\n",
      "dense (Dense)                (None, 11)                11275     \n",
      "=================================================================\n",
      "Total params: 7,048,779\n",
      "Trainable params: 6,965,131\n",
      "Non-trainable params: 83,648\n",
      "_________________________________________________________________\n"
     ]
    }
   ],
   "source": [
    "densenet.trainable = True\n",
    "model.summary()"
   ]
  },
  {
   "cell_type": "code",
   "execution_count": 55,
   "metadata": {},
   "outputs": [],
   "source": [
    "clr = tfa.optimizers.CyclicalLearningRate(\n",
    "    initial_learning_rate=1e-5, #before: 1e-9\n",
    "    maximal_learning_rate=1e-2, #before: 1e-4\n",
    "    scale_fn=scale_fn,\n",
    "    step_size=2*len(train_datagen)*BATCH_SIZE,\n",
    "    scale_mode='cyclic'\n",
    ")"
   ]
  },
  {
   "cell_type": "code",
   "execution_count": 56,
   "metadata": {},
   "outputs": [],
   "source": [
    "model.compile(optimizer=tf.keras.optimizers.Adam(learning_rate=clr),\n",
    "              loss='binary_crossentropy',\n",
    "              metrics=['binary_accuracy', tf.keras.metrics.AUC()])"
   ]
  },
  {
   "cell_type": "code",
   "execution_count": 57,
   "metadata": {},
   "outputs": [
    {
     "name": "stdout",
     "output_type": "stream",
     "text": [
      "Epoch 1/4\n",
      " 379/1507 [======>.......................] - ETA: 38:27:31 - loss: 0.2642 - binary_accuracy: 0.8905 - auc_1: 0.9044"
     ]
    },
    {
     "ename": "KeyboardInterrupt",
     "evalue": "",
     "output_type": "error",
     "traceback": [
      "\u001b[1;31m---------------------------------------------------------------------------\u001b[0m",
      "\u001b[1;31mKeyboardInterrupt\u001b[0m                         Traceback (most recent call last)",
      "\u001b[1;32m<ipython-input-57-c3124234ebc7>\u001b[0m in \u001b[0;36m<module>\u001b[1;34m\u001b[0m\n\u001b[1;32m----> 1\u001b[1;33m model.fit(train_datagen, epochs=4, batch_size=BATCH_SIZE, \n\u001b[0m\u001b[0;32m      2\u001b[0m           \u001b[0msteps_per_epoch\u001b[0m\u001b[1;33m=\u001b[0m\u001b[0mlen\u001b[0m\u001b[1;33m(\u001b[0m\u001b[0mtrain_datagen\u001b[0m\u001b[1;33m)\u001b[0m\u001b[1;33m,\u001b[0m\u001b[1;33m\u001b[0m\u001b[1;33m\u001b[0m\u001b[0m\n\u001b[0;32m      3\u001b[0m           \u001b[0mvalidation_data\u001b[0m\u001b[1;33m=\u001b[0m\u001b[0mvalid_datagen\u001b[0m\u001b[1;33m,\u001b[0m\u001b[1;33m\u001b[0m\u001b[1;33m\u001b[0m\u001b[0m\n\u001b[0;32m      4\u001b[0m           validation_steps=len(valid_datagen))\n",
      "\u001b[1;32m~\\anaconda3\\lib\\site-packages\\keras\\engine\\training.py\u001b[0m in \u001b[0;36mfit\u001b[1;34m(self, x, y, batch_size, epochs, verbose, callbacks, validation_split, validation_data, shuffle, class_weight, sample_weight, initial_epoch, steps_per_epoch, validation_steps, validation_batch_size, validation_freq, max_queue_size, workers, use_multiprocessing)\u001b[0m\n\u001b[0;32m   1182\u001b[0m                 _r=1):\n\u001b[0;32m   1183\u001b[0m               \u001b[0mcallbacks\u001b[0m\u001b[1;33m.\u001b[0m\u001b[0mon_train_batch_begin\u001b[0m\u001b[1;33m(\u001b[0m\u001b[0mstep\u001b[0m\u001b[1;33m)\u001b[0m\u001b[1;33m\u001b[0m\u001b[1;33m\u001b[0m\u001b[0m\n\u001b[1;32m-> 1184\u001b[1;33m               \u001b[0mtmp_logs\u001b[0m \u001b[1;33m=\u001b[0m \u001b[0mself\u001b[0m\u001b[1;33m.\u001b[0m\u001b[0mtrain_function\u001b[0m\u001b[1;33m(\u001b[0m\u001b[0miterator\u001b[0m\u001b[1;33m)\u001b[0m\u001b[1;33m\u001b[0m\u001b[1;33m\u001b[0m\u001b[0m\n\u001b[0m\u001b[0;32m   1185\u001b[0m               \u001b[1;32mif\u001b[0m \u001b[0mdata_handler\u001b[0m\u001b[1;33m.\u001b[0m\u001b[0mshould_sync\u001b[0m\u001b[1;33m:\u001b[0m\u001b[1;33m\u001b[0m\u001b[1;33m\u001b[0m\u001b[0m\n\u001b[0;32m   1186\u001b[0m                 \u001b[0mcontext\u001b[0m\u001b[1;33m.\u001b[0m\u001b[0masync_wait\u001b[0m\u001b[1;33m(\u001b[0m\u001b[1;33m)\u001b[0m\u001b[1;33m\u001b[0m\u001b[1;33m\u001b[0m\u001b[0m\n",
      "\u001b[1;32m~\\anaconda3\\lib\\site-packages\\tensorflow\\python\\eager\\def_function.py\u001b[0m in \u001b[0;36m__call__\u001b[1;34m(self, *args, **kwds)\u001b[0m\n\u001b[0;32m    883\u001b[0m \u001b[1;33m\u001b[0m\u001b[0m\n\u001b[0;32m    884\u001b[0m       \u001b[1;32mwith\u001b[0m \u001b[0mOptionalXlaContext\u001b[0m\u001b[1;33m(\u001b[0m\u001b[0mself\u001b[0m\u001b[1;33m.\u001b[0m\u001b[0m_jit_compile\u001b[0m\u001b[1;33m)\u001b[0m\u001b[1;33m:\u001b[0m\u001b[1;33m\u001b[0m\u001b[1;33m\u001b[0m\u001b[0m\n\u001b[1;32m--> 885\u001b[1;33m         \u001b[0mresult\u001b[0m \u001b[1;33m=\u001b[0m \u001b[0mself\u001b[0m\u001b[1;33m.\u001b[0m\u001b[0m_call\u001b[0m\u001b[1;33m(\u001b[0m\u001b[1;33m*\u001b[0m\u001b[0margs\u001b[0m\u001b[1;33m,\u001b[0m \u001b[1;33m**\u001b[0m\u001b[0mkwds\u001b[0m\u001b[1;33m)\u001b[0m\u001b[1;33m\u001b[0m\u001b[1;33m\u001b[0m\u001b[0m\n\u001b[0m\u001b[0;32m    886\u001b[0m \u001b[1;33m\u001b[0m\u001b[0m\n\u001b[0;32m    887\u001b[0m       \u001b[0mnew_tracing_count\u001b[0m \u001b[1;33m=\u001b[0m \u001b[0mself\u001b[0m\u001b[1;33m.\u001b[0m\u001b[0mexperimental_get_tracing_count\u001b[0m\u001b[1;33m(\u001b[0m\u001b[1;33m)\u001b[0m\u001b[1;33m\u001b[0m\u001b[1;33m\u001b[0m\u001b[0m\n",
      "\u001b[1;32m~\\anaconda3\\lib\\site-packages\\tensorflow\\python\\eager\\def_function.py\u001b[0m in \u001b[0;36m_call\u001b[1;34m(self, *args, **kwds)\u001b[0m\n\u001b[0;32m    915\u001b[0m       \u001b[1;31m# In this case we have created variables on the first call, so we run the\u001b[0m\u001b[1;33m\u001b[0m\u001b[1;33m\u001b[0m\u001b[1;33m\u001b[0m\u001b[0m\n\u001b[0;32m    916\u001b[0m       \u001b[1;31m# defunned version which is guaranteed to never create variables.\u001b[0m\u001b[1;33m\u001b[0m\u001b[1;33m\u001b[0m\u001b[1;33m\u001b[0m\u001b[0m\n\u001b[1;32m--> 917\u001b[1;33m       \u001b[1;32mreturn\u001b[0m \u001b[0mself\u001b[0m\u001b[1;33m.\u001b[0m\u001b[0m_stateless_fn\u001b[0m\u001b[1;33m(\u001b[0m\u001b[1;33m*\u001b[0m\u001b[0margs\u001b[0m\u001b[1;33m,\u001b[0m \u001b[1;33m**\u001b[0m\u001b[0mkwds\u001b[0m\u001b[1;33m)\u001b[0m  \u001b[1;31m# pylint: disable=not-callable\u001b[0m\u001b[1;33m\u001b[0m\u001b[1;33m\u001b[0m\u001b[0m\n\u001b[0m\u001b[0;32m    918\u001b[0m     \u001b[1;32melif\u001b[0m \u001b[0mself\u001b[0m\u001b[1;33m.\u001b[0m\u001b[0m_stateful_fn\u001b[0m \u001b[1;32mis\u001b[0m \u001b[1;32mnot\u001b[0m \u001b[1;32mNone\u001b[0m\u001b[1;33m:\u001b[0m\u001b[1;33m\u001b[0m\u001b[1;33m\u001b[0m\u001b[0m\n\u001b[0;32m    919\u001b[0m       \u001b[1;31m# Release the lock early so that multiple threads can perform the call\u001b[0m\u001b[1;33m\u001b[0m\u001b[1;33m\u001b[0m\u001b[1;33m\u001b[0m\u001b[0m\n",
      "\u001b[1;32m~\\anaconda3\\lib\\site-packages\\tensorflow\\python\\eager\\function.py\u001b[0m in \u001b[0;36m__call__\u001b[1;34m(self, *args, **kwargs)\u001b[0m\n\u001b[0;32m   3037\u001b[0m       (graph_function,\n\u001b[0;32m   3038\u001b[0m        filtered_flat_args) = self._maybe_define_function(args, kwargs)\n\u001b[1;32m-> 3039\u001b[1;33m     return graph_function._call_flat(\n\u001b[0m\u001b[0;32m   3040\u001b[0m         filtered_flat_args, captured_inputs=graph_function.captured_inputs)  # pylint: disable=protected-access\n\u001b[0;32m   3041\u001b[0m \u001b[1;33m\u001b[0m\u001b[0m\n",
      "\u001b[1;32m~\\anaconda3\\lib\\site-packages\\tensorflow\\python\\eager\\function.py\u001b[0m in \u001b[0;36m_call_flat\u001b[1;34m(self, args, captured_inputs, cancellation_manager)\u001b[0m\n\u001b[0;32m   1961\u001b[0m         and executing_eagerly):\n\u001b[0;32m   1962\u001b[0m       \u001b[1;31m# No tape is watching; skip to running the function.\u001b[0m\u001b[1;33m\u001b[0m\u001b[1;33m\u001b[0m\u001b[1;33m\u001b[0m\u001b[0m\n\u001b[1;32m-> 1963\u001b[1;33m       return self._build_call_outputs(self._inference_function.call(\n\u001b[0m\u001b[0;32m   1964\u001b[0m           ctx, args, cancellation_manager=cancellation_manager))\n\u001b[0;32m   1965\u001b[0m     forward_backward = self._select_forward_and_backward_functions(\n",
      "\u001b[1;32m~\\anaconda3\\lib\\site-packages\\tensorflow\\python\\eager\\function.py\u001b[0m in \u001b[0;36mcall\u001b[1;34m(self, ctx, args, cancellation_manager)\u001b[0m\n\u001b[0;32m    589\u001b[0m       \u001b[1;32mwith\u001b[0m \u001b[0m_InterpolateFunctionError\u001b[0m\u001b[1;33m(\u001b[0m\u001b[0mself\u001b[0m\u001b[1;33m)\u001b[0m\u001b[1;33m:\u001b[0m\u001b[1;33m\u001b[0m\u001b[1;33m\u001b[0m\u001b[0m\n\u001b[0;32m    590\u001b[0m         \u001b[1;32mif\u001b[0m \u001b[0mcancellation_manager\u001b[0m \u001b[1;32mis\u001b[0m \u001b[1;32mNone\u001b[0m\u001b[1;33m:\u001b[0m\u001b[1;33m\u001b[0m\u001b[1;33m\u001b[0m\u001b[0m\n\u001b[1;32m--> 591\u001b[1;33m           outputs = execute.execute(\n\u001b[0m\u001b[0;32m    592\u001b[0m               \u001b[0mstr\u001b[0m\u001b[1;33m(\u001b[0m\u001b[0mself\u001b[0m\u001b[1;33m.\u001b[0m\u001b[0msignature\u001b[0m\u001b[1;33m.\u001b[0m\u001b[0mname\u001b[0m\u001b[1;33m)\u001b[0m\u001b[1;33m,\u001b[0m\u001b[1;33m\u001b[0m\u001b[1;33m\u001b[0m\u001b[0m\n\u001b[0;32m    593\u001b[0m               \u001b[0mnum_outputs\u001b[0m\u001b[1;33m=\u001b[0m\u001b[0mself\u001b[0m\u001b[1;33m.\u001b[0m\u001b[0m_num_outputs\u001b[0m\u001b[1;33m,\u001b[0m\u001b[1;33m\u001b[0m\u001b[1;33m\u001b[0m\u001b[0m\n",
      "\u001b[1;32m~\\anaconda3\\lib\\site-packages\\tensorflow\\python\\eager\\execute.py\u001b[0m in \u001b[0;36mquick_execute\u001b[1;34m(op_name, num_outputs, inputs, attrs, ctx, name)\u001b[0m\n\u001b[0;32m     57\u001b[0m   \u001b[1;32mtry\u001b[0m\u001b[1;33m:\u001b[0m\u001b[1;33m\u001b[0m\u001b[1;33m\u001b[0m\u001b[0m\n\u001b[0;32m     58\u001b[0m     \u001b[0mctx\u001b[0m\u001b[1;33m.\u001b[0m\u001b[0mensure_initialized\u001b[0m\u001b[1;33m(\u001b[0m\u001b[1;33m)\u001b[0m\u001b[1;33m\u001b[0m\u001b[1;33m\u001b[0m\u001b[0m\n\u001b[1;32m---> 59\u001b[1;33m     tensors = pywrap_tfe.TFE_Py_Execute(ctx._handle, device_name, op_name,\n\u001b[0m\u001b[0;32m     60\u001b[0m                                         inputs, attrs, num_outputs)\n\u001b[0;32m     61\u001b[0m   \u001b[1;32mexcept\u001b[0m \u001b[0mcore\u001b[0m\u001b[1;33m.\u001b[0m\u001b[0m_NotOkStatusException\u001b[0m \u001b[1;32mas\u001b[0m \u001b[0me\u001b[0m\u001b[1;33m:\u001b[0m\u001b[1;33m\u001b[0m\u001b[1;33m\u001b[0m\u001b[0m\n",
      "\u001b[1;31mKeyboardInterrupt\u001b[0m: "
     ]
    }
   ],
   "source": [
    "model.fit(train_datagen, epochs=4, batch_size=BATCH_SIZE, \n",
    "          steps_per_epoch=len(train_datagen), \n",
    "          validation_data=valid_datagen,\n",
    "          validation_steps=len(valid_datagen))"
   ]
  },
  {
   "cell_type": "code",
   "execution_count": null,
   "metadata": {},
   "outputs": [],
   "source": []
  }
 ],
 "metadata": {
  "accelerator": "GPU",
  "colab": {
   "collapsed_sections": [],
   "name": "Modelling_Johnny.ipynb",
   "provenance": []
  },
  "kernelspec": {
   "display_name": "Python 3",
   "language": "python",
   "name": "python3"
  }
 },
 "nbformat": 4,
 "nbformat_minor": 1
}
